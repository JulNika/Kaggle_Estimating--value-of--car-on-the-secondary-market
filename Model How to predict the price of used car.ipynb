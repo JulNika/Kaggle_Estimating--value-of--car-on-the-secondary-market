{
 "cells": [
  {
   "cell_type": "markdown",
   "id": "7f82b3eb",
   "metadata": {},
   "source": [
    "\n",
    "\n",
    "***Описание целей и задачи проекта***\n",
    "Цель проекта - разработать модель для предсказания стоимости автомобиля на вторичном рынке на основе имеющего датасета.\n",
    "\n",
    "\n",
    "***Описание полей данных***\n",
    "\n",
    " - 'year' - год производства\n",
    " - 'make' - производитель\n",
    " - 'model' - модель\n",
    " - 'trim' - модификация\n",
    " - 'body' - тип кузова\n",
    " - 'transmission' - тип КПП\n",
    " - 'vin' - идентификатор (вин)\n",
    " - 'state' - штат регистрации\n",
    " - 'condition' - состояние по шкале (1-5)\n",
    " - 'odometer' - пробег в милях (количественная переменная)\n",
    " - 'color' - цвет кузова\n",
    " - 'interior' - цвет интерьера\n",
    " - 'seller' - продавец\n",
    " - 'sellingprice' - стоимость продажи\n",
    " - 'saledate' - дата продажи\n",
    "\n",
    "***План работы***\n",
    "\n",
    "В проекте необходимо посчитать стоимость автомобиля на вторичном рынке - следовательно перед нами стоит задача регресии.\n",
    "\n",
    " - загрузка и ознакомление с данными,\n",
    " - предварительная обработка,\n",
    " - проверка на мультиколлинеарность,\n",
    " - отбор финального набора обучающих признаков,\n",
    " - выбор и обучение моделей,\n",
    " - итоговая оценка качества предсказания лучшей модели,\n",
    " - анализ важности ее признаков.\n",
    "\n",
    "\n",
    "Многие знают про маркетплейсы где продаются б/у вещи, на которых есть возможность недорого купить качественную и полезную вещь. Но всегда волнует вопрос - кто и как устанавливает цену, и какие его характеристики больше всего влияют на итоговую стоимость продажи?! Вопрос становиться особо актуальным, если речь идет про дорогие товары, например про автомобили!\n",
    "Предлагаем вам принять участие в Мастерской, в рамках которой вы сможете поработать с данными о продажах автомобилей на вторичном рынке. Целью вашего проекта будет разработанная модель предсказания стоимости автомобиля на вторичном рынке."
   ]
  },
  {
   "cell_type": "markdown",
   "id": "4ec9fd91",
   "metadata": {},
   "source": [
    "***Подготовка данных***"
   ]
  },
  {
   "cell_type": "markdown",
   "id": "3cd43311",
   "metadata": {},
   "source": [
    "\n",
    "Тут будут все import"
   ]
  },
  {
   "cell_type": "code",
   "execution_count": 51,
   "id": "dd76ad59",
   "metadata": {},
   "outputs": [],
   "source": [
    "#загрузка библиотек, методов и пр\n",
    "\n",
    "import pandas as pd\n",
    "import numpy as np\n",
    "from sklearn.model_selection import train_test_split\n",
    "from sklearn.linear_model import LogisticRegression\n",
    "from sklearn.metrics import f1_score\n",
    "from sklearn.preprocessing import StandardScaler\n",
    "from sklearn.utils import shuffle\n",
    "from sklearn.metrics import precision_score, recall_score\n",
    "from sklearn.metrics import accuracy_score\n",
    "import matplotlib.pyplot as plt\n",
    "import matplotlib.pyplot as plt\n",
    "import seaborn as sns\n",
    "from sklearn.linear_model import LinearRegression\n",
    "from sklearn.metrics import mean_squared_error\n",
    "import numpy as np\n",
    "from scipy import stats as st\n",
    "from numpy.random import RandomState\n",
    "from sklearn.preprocessing import OrdinalEncoder\n",
    "from sklearn.metrics import mean_absolute_error\n",
    "from sklearn.metrics import mean_absolute_percentage_error\n",
    "from sklearn.tree import DecisionTreeRegressor\n",
    "from sklearn.ensemble import RandomForestRegressor\n",
    "from sklearn.datasets import make_regression\n",
    "from sklearn.ensemble import GradientBoostingRegressor\n",
    "from sklearn.model_selection import GridSearchCV\n",
    "from scipy.stats import randint\n",
    "from sklearn.model_selection import RandomizedSearchCV"
   ]
  },
  {
   "cell_type": "code",
   "execution_count": 52,
   "id": "168a23ce",
   "metadata": {},
   "outputs": [
    {
     "data": {
      "text/html": [
       "<div>\n",
       "<style scoped>\n",
       "    .dataframe tbody tr th:only-of-type {\n",
       "        vertical-align: middle;\n",
       "    }\n",
       "\n",
       "    .dataframe tbody tr th {\n",
       "        vertical-align: top;\n",
       "    }\n",
       "\n",
       "    .dataframe thead th {\n",
       "        text-align: right;\n",
       "    }\n",
       "</style>\n",
       "<table border=\"1\" class=\"dataframe\">\n",
       "  <thead>\n",
       "    <tr style=\"text-align: right;\">\n",
       "      <th></th>\n",
       "      <th>year</th>\n",
       "      <th>make</th>\n",
       "      <th>model</th>\n",
       "      <th>trim</th>\n",
       "      <th>body</th>\n",
       "      <th>transmission</th>\n",
       "      <th>vin</th>\n",
       "      <th>state</th>\n",
       "      <th>condition</th>\n",
       "      <th>odometer</th>\n",
       "      <th>color</th>\n",
       "      <th>interior</th>\n",
       "      <th>seller</th>\n",
       "      <th>sellingprice</th>\n",
       "      <th>saledate</th>\n",
       "    </tr>\n",
       "  </thead>\n",
       "  <tbody>\n",
       "    <tr>\n",
       "      <th>0</th>\n",
       "      <td>2011</td>\n",
       "      <td>Ford</td>\n",
       "      <td>Edge</td>\n",
       "      <td>SEL</td>\n",
       "      <td>suv</td>\n",
       "      <td>automatic</td>\n",
       "      <td>2fmdk3jc4bba41556</td>\n",
       "      <td>md</td>\n",
       "      <td>4.2</td>\n",
       "      <td>111041.0</td>\n",
       "      <td>black</td>\n",
       "      <td>black</td>\n",
       "      <td>santander consumer</td>\n",
       "      <td>12500</td>\n",
       "      <td>Tue Jun 02 2015 02:30:00 GMT-0700 (PDT)</td>\n",
       "    </tr>\n",
       "    <tr>\n",
       "      <th>1</th>\n",
       "      <td>2014</td>\n",
       "      <td>Ford</td>\n",
       "      <td>Fusion</td>\n",
       "      <td>SE</td>\n",
       "      <td>Sedan</td>\n",
       "      <td>automatic</td>\n",
       "      <td>3fa6p0h75er208976</td>\n",
       "      <td>mo</td>\n",
       "      <td>3.5</td>\n",
       "      <td>31034.0</td>\n",
       "      <td>black</td>\n",
       "      <td>black</td>\n",
       "      <td>ars/avis budget group</td>\n",
       "      <td>14500</td>\n",
       "      <td>Wed Feb 25 2015 02:00:00 GMT-0800 (PST)</td>\n",
       "    </tr>\n",
       "    <tr>\n",
       "      <th>2</th>\n",
       "      <td>2012</td>\n",
       "      <td>Nissan</td>\n",
       "      <td>Sentra</td>\n",
       "      <td>2.0 SL</td>\n",
       "      <td>sedan</td>\n",
       "      <td>automatic</td>\n",
       "      <td>3n1ab6ap4cl698412</td>\n",
       "      <td>nj</td>\n",
       "      <td>2.2</td>\n",
       "      <td>35619.0</td>\n",
       "      <td>black</td>\n",
       "      <td>black</td>\n",
       "      <td>nissan-infiniti lt</td>\n",
       "      <td>9100</td>\n",
       "      <td>Wed Jun 10 2015 02:30:00 GMT-0700 (PDT)</td>\n",
       "    </tr>\n",
       "    <tr>\n",
       "      <th>3</th>\n",
       "      <td>2003</td>\n",
       "      <td>HUMMER</td>\n",
       "      <td>H2</td>\n",
       "      <td>Base</td>\n",
       "      <td>suv</td>\n",
       "      <td>automatic</td>\n",
       "      <td>5grgn23u93h101360</td>\n",
       "      <td>tx</td>\n",
       "      <td>2.8</td>\n",
       "      <td>131301.0</td>\n",
       "      <td>gold</td>\n",
       "      <td>beige</td>\n",
       "      <td>wichita falls ford lin inc</td>\n",
       "      <td>13300</td>\n",
       "      <td>Wed Jun 17 2015 03:00:00 GMT-0700 (PDT)</td>\n",
       "    </tr>\n",
       "    <tr>\n",
       "      <th>4</th>\n",
       "      <td>2007</td>\n",
       "      <td>Ford</td>\n",
       "      <td>Fusion</td>\n",
       "      <td>SEL</td>\n",
       "      <td>Sedan</td>\n",
       "      <td>automatic</td>\n",
       "      <td>3fahp08z17r268380</td>\n",
       "      <td>md</td>\n",
       "      <td>2.0</td>\n",
       "      <td>127709.0</td>\n",
       "      <td>black</td>\n",
       "      <td>black</td>\n",
       "      <td>purple heart</td>\n",
       "      <td>1300</td>\n",
       "      <td>Tue Feb 03 2015 04:00:00 GMT-0800 (PST)</td>\n",
       "    </tr>\n",
       "  </tbody>\n",
       "</table>\n",
       "</div>"
      ],
      "text/plain": [
       "   year    make   model    trim   body transmission                vin state  \\\n",
       "0  2011    Ford    Edge     SEL    suv    automatic  2fmdk3jc4bba41556    md   \n",
       "1  2014    Ford  Fusion      SE  Sedan    automatic  3fa6p0h75er208976    mo   \n",
       "2  2012  Nissan  Sentra  2.0 SL  sedan    automatic  3n1ab6ap4cl698412    nj   \n",
       "3  2003  HUMMER      H2    Base    suv    automatic  5grgn23u93h101360    tx   \n",
       "4  2007    Ford  Fusion     SEL  Sedan    automatic  3fahp08z17r268380    md   \n",
       "\n",
       "   condition  odometer  color interior                      seller  \\\n",
       "0        4.2  111041.0  black    black          santander consumer   \n",
       "1        3.5   31034.0  black    black       ars/avis budget group   \n",
       "2        2.2   35619.0  black    black          nissan-infiniti lt   \n",
       "3        2.8  131301.0   gold    beige  wichita falls ford lin inc   \n",
       "4        2.0  127709.0  black    black                purple heart   \n",
       "\n",
       "   sellingprice                                 saledate  \n",
       "0         12500  Tue Jun 02 2015 02:30:00 GMT-0700 (PDT)  \n",
       "1         14500  Wed Feb 25 2015 02:00:00 GMT-0800 (PST)  \n",
       "2          9100  Wed Jun 10 2015 02:30:00 GMT-0700 (PDT)  \n",
       "3         13300  Wed Jun 17 2015 03:00:00 GMT-0700 (PDT)  \n",
       "4          1300  Tue Feb 03 2015 04:00:00 GMT-0800 (PST)  "
      ]
     },
     "execution_count": 52,
     "metadata": {},
     "output_type": "execute_result"
    }
   ],
   "source": [
    "#тренирвочные данные\n",
    "from io import BytesIO\n",
    "import requests\n",
    "spreadsheet_id = '1e_UUJO6-CQTZNJBwUheKTVyO_tDulEr_A4F-OEtR3EQ'\n",
    "file_name = 'https://docs.google.com/spreadsheets/d/{}/export?format=csv'.format(spreadsheet_id)\n",
    "r = requests.get(file_name)\n",
    "data_train = pd.read_csv(BytesIO(r.content))\n",
    "data_train.head()"
   ]
  },
  {
   "cell_type": "code",
   "execution_count": 53,
   "id": "cb976469",
   "metadata": {},
   "outputs": [
    {
     "name": "stdout",
     "output_type": "stream",
     "text": [
      "<class 'pandas.core.frame.DataFrame'>\n",
      "RangeIndex: 440236 entries, 0 to 440235\n",
      "Data columns (total 15 columns):\n",
      " #   Column        Non-Null Count   Dtype  \n",
      "---  ------        --------------   -----  \n",
      " 0   year          440236 non-null  int64  \n",
      " 1   make          432193 non-null  object \n",
      " 2   model         432113 non-null  object \n",
      " 3   trim          431899 non-null  object \n",
      " 4   body          429843 non-null  object \n",
      " 5   transmission  388775 non-null  object \n",
      " 6   vin           440236 non-null  object \n",
      " 7   state         440236 non-null  object \n",
      " 8   condition     430831 non-null  float64\n",
      " 9   odometer      440167 non-null  float64\n",
      " 10  color         439650 non-null  object \n",
      " 11  interior      439650 non-null  object \n",
      " 12  seller        440236 non-null  object \n",
      " 13  sellingprice  440236 non-null  int64  \n",
      " 14  saledate      440236 non-null  object \n",
      "dtypes: float64(2), int64(2), object(11)\n",
      "memory usage: 50.4+ MB\n"
     ]
    }
   ],
   "source": [
    "data_train.info()"
   ]
  },
  {
   "cell_type": "code",
   "execution_count": 54,
   "id": "f753c441",
   "metadata": {},
   "outputs": [
    {
     "name": "stdout",
     "output_type": "stream",
     "text": [
      "                 vin  sellingprice\n",
      "0  1g6dp567450124779   4359.648813\n",
      "1  1gtw7fca7e1902207  20820.812029\n",
      "2  jn8az1mw6dw303497  19730.896416\n",
      "3  2g1wf5e34d1160703  10417.514331\n",
      "4  1n6aa0ec3dn301209  26142.936612\n"
     ]
    }
   ],
   "source": [
    "#sample submition  данные\n",
    "from io import BytesIO\n",
    "import requests\n",
    "spreadsheet_id = '1grOCCtEWtQZh9hMifqD6aGzhYBpmlMTsWgPU7Xk0Sn4'\n",
    "file_name = 'https://docs.google.com/spreadsheets/d/{}/export?format=csv'.format(spreadsheet_id)\n",
    "r = requests.get(file_name)\n",
    "sample_submition = pd.read_csv(BytesIO(r.content))\n",
    "print(sample_submition.head())"
   ]
  },
  {
   "cell_type": "markdown",
   "id": "c72f1a9b",
   "metadata": {},
   "source": [
    "***Вывод:***\n",
    "   \n",
    "1) Есть пропуски в колонках make,model, trim, body,  transmission, condition, odometer, color, interior. \n",
    "Так как в тестовых данных эти колонки есть, поэтому удалять строки с проспуками в тренировочной базе не будем, а заменим пропуски на нули.\n",
    "\n",
    "2) Необходимо провести предобработку данных и проверить наличие явных и неявных дубликатов."
   ]
  },
  {
   "cell_type": "markdown",
   "id": "46d907b9",
   "metadata": {},
   "source": [
    "***ПРЕДОБРАБОТКА ДАННЫХ***"
   ]
  },
  {
   "cell_type": "markdown",
   "id": "3934c277",
   "metadata": {},
   "source": [
    "1. Проверим данные на наличиие пропусков, дубликатов янных и нет, оценим разброс данных."
   ]
  },
  {
   "cell_type": "code",
   "execution_count": 55,
   "id": "863337f1",
   "metadata": {},
   "outputs": [
    {
     "data": {
      "text/plain": [
       "year                0\n",
       "make             8043\n",
       "model            8123\n",
       "trim             8337\n",
       "body            10393\n",
       "transmission    51461\n",
       "vin                 0\n",
       "state               0\n",
       "condition        9405\n",
       "odometer           69\n",
       "color             586\n",
       "interior          586\n",
       "seller              0\n",
       "sellingprice        0\n",
       "saledate            0\n",
       "dtype: int64"
      ]
     },
     "execution_count": 55,
     "metadata": {},
     "output_type": "execute_result"
    }
   ],
   "source": [
    "#посчитаем пропуски\n",
    "data_train.isna().sum()"
   ]
  },
  {
   "cell_type": "markdown",
   "id": "1b9cc455",
   "metadata": {},
   "source": [
    "2. Приведем данные в нижнему регистру и проверим наличие дубликатов."
   ]
  },
  {
   "cell_type": "code",
   "execution_count": 56,
   "id": "6391ce73",
   "metadata": {},
   "outputs": [],
   "source": [
    "#обрабоатем неявные дубликаты, приведя названия в колонке к нижнему регистру \n",
    "data_train['make'] = data_train['make'].str.lower()\n",
    "data_train['model'] = data_train['model'].str.lower()\n",
    "data_train['trim'] = data_train['trim'].str.lower()\n",
    "data_train['body'] = data_train['body'].str.lower()\n",
    "data_train['transmission'] = data_train['transmission'].str.lower()\n",
    "data_train['state'] = data_train['state'].str.lower()\n",
    "data_train['color'] = data_train['color'].str.lower()\n",
    "data_train['interior'] = data_train['interior'].str.lower()"
   ]
  },
  {
   "cell_type": "code",
   "execution_count": 57,
   "id": "71edec94",
   "metadata": {},
   "outputs": [
    {
     "name": "stdout",
     "output_type": "stream",
     "text": [
      "Дубликаты в данных по VIN-номеру:\n",
      "0\n"
     ]
    }
   ],
   "source": [
    "#считаем количество дубликатов\n",
    "\n",
    "print('Дубликаты в данных по VIN-номеру:')\n",
    "print( data_train['vin'].duplicated().sum())\n",
    "\n"
   ]
  },
  {
   "cell_type": "markdown",
   "id": "de338a7a",
   "metadata": {},
   "source": [
    "3.Проверим какие уникальные значения имеют категориальные переменные по колонкам make, model, trim, body, transmition, condition, color, interior. Заменим, где это возможно, неявные дубликаты в признаках."
   ]
  },
  {
   "cell_type": "code",
   "execution_count": 58,
   "id": "ea60818d",
   "metadata": {},
   "outputs": [
    {
     "data": {
      "text/plain": [
       "array([2011, 2014, 2012, 2003, 2007, 2013, 2010, 2000, 2005, 2006, 2004,\n",
       "       2008, 2009, 2015, 2002, 2001, 1999, 1998, 1996, 1997, 1994, 1995,\n",
       "       1993, 1989, 1991, 1988, 1987, 1990, 1992, 1985, 1986, 1983, 1984,\n",
       "       1982], dtype=int64)"
      ]
     },
     "execution_count": 58,
     "metadata": {},
     "output_type": "execute_result"
    }
   ],
   "source": [
    "#признак год сделаем категориальным\n",
    "data_train['year'].unique()\n",
    "#data_train['year'] = data_train['year'].astype(object)"
   ]
  },
  {
   "cell_type": "code",
   "execution_count": 59,
   "id": "0ed96129",
   "metadata": {},
   "outputs": [
    {
     "data": {
      "text/plain": [
       "ford             74067\n",
       "chevrolet        47818\n",
       "nissan           42866\n",
       "toyota           31711\n",
       "dodge            24294\n",
       "honda            21600\n",
       "hyundai          17187\n",
       "bmw              16254\n",
       "kia              14325\n",
       "chrysler         13796\n",
       "mercedes-benz    13345\n",
       "infiniti         12123\n",
       "jeep             12107\n",
       "volkswagen        9883\n",
       "lexus             9363\n",
       "gmc               8357\n",
       "mazda             6703\n",
       "cadillac          5958\n",
       "acura             4679\n",
       "audi              4635\n",
       "Name: make, dtype: int64"
      ]
     },
     "execution_count": 59,
     "metadata": {},
     "output_type": "execute_result"
    }
   ],
   "source": [
    "#обрабоатем неявные дубликаты\n",
    "#data_train['make'].unique()\n",
    "data_train['make'].value_counts().head(20)"
   ]
  },
  {
   "cell_type": "markdown",
   "id": "6de53585",
   "metadata": {},
   "source": [
    "Унифицираем название авто, проведем следующие замены:\n",
    "'honda' на 'hyundai'\n",
    "'mercedes-benz' на mercedes'\n",
    "'mercedes-b' на mercedes'\n",
    "'vw' на 'volkswagen'\n",
    "'landrover' на 'land rover'\n",
    "'dodge tk' на 'dodge truck\n",
    "'mazda tk' на 'mazda truck"
   ]
  },
  {
   "cell_type": "code",
   "execution_count": 60,
   "id": "3c7b6529",
   "metadata": {},
   "outputs": [],
   "source": [
    "#унифицирем названия и заменим неявные дубликаты\n",
    "data_train['make'] = data_train['make'].replace ('honda','hyundai')\n",
    "data_train['make'] = data_train['make'].replace ('mercedes-benz','mercedes')\n",
    "data_train['make'] = data_train['make'].replace ('mercedes-b','mercedes')\n",
    "data_train['make'] = data_train['make'].replace ('vw','wolkswagen')\n",
    "data_train['make'] = data_train['make'].replace ('landrover','land rover')\n",
    "data_train['make'] = data_train['make'].replace ('dodge tk','dodge truck')\n",
    "data_train['make'] = data_train['make'].replace ('mazda tk','mazda truck')\n",
    "#data_train['make'].unique()\n",
    "\n"
   ]
  },
  {
   "cell_type": "code",
   "execution_count": 61,
   "id": "98f1ff4d",
   "metadata": {},
   "outputs": [],
   "source": [
    "data_train['make'] = data_train['make'].replace ('mazda tk','mazda truck')\n",
    "data_train['model'] = data_train['model'].replace ('mazdaspeed mazda3','mazdaspeed 3')\n",
    "data_train['model'] = data_train['model'].replace ('mazdaspeed3','mazdaspeed 3')\n",
    "data_train['model'] = data_train['model'].replace ('3','mazdaspeed 3')\n",
    "data_train['model'] = data_train['model'].replace ('rx8','rx-8')\n",
    "data_train['model'] = data_train['model'].replace ('6','mazda6')\n",
    "data_train['model'] = data_train['model'].replace ('mazdaspeed mx-5 miata','mx-5 miata')\n",
    "data_train['model'] = data_train['model'].replace ('mazdaspeed protege','protege')\n",
    "data_train['model'] = data_train['model'].replace ('b-series truck','b-series pickup')\n",
    "data_train['model'] = data_train['model'].replace ('truck','b-series pickup')\n",
    "data_train['model'] = data_train['model'].replace ('b-series','b-series pickup')\n",
    "data_train['model'] = data_train['model'].replace ('mazdaspeed mazda6','mazda6')\n",
    "data_train['model'] = data_train['model'].replace ('mazdaspeed 3','mazda3')\n",
    "data1 = data_train.query('make == \"chevrolet\"')"
   ]
  },
  {
   "cell_type": "code",
   "execution_count": 62,
   "id": "c2c12518",
   "metadata": {},
   "outputs": [],
   "source": [
    "data1 = data_train.query('make == \"ford\"')\n",
    "data_train['model'] = data_train['model'].replace ('mazdaspeed mx-5 miata','mx-5 miata')\n",
    "data_train['model'] = data_train['model'].replace ('e-150','e150')\n",
    "data_train['model'] = data_train['model'].replace ('e-250','e250')\n",
    "data_train['model'] = data_train['model'].replace ('e-350','e350')\n",
    "data_train['model'] = data_train['model'].replace ('f250','f-250 super duty')\n",
    "\n",
    "#рассматривали аткже вариант упроситить название моделей, но на практике это приведло к снижению показателя MAPE\n",
    "#data_train['model'] = data_train['model'].replace ('f150','f-150')\n",
    "#data_train['model'] = data_train['model'].replace ('f-150 heritage','f-150')\n",
    "#data_train['model'] = data_train['model'].replace ('f-150 svt lightning','f-150')\n",
    "#data_train['model'] = data_train['model'].replace ('f-350 super duty','f-350')\n",
    "#data_train['model'] = data_train['model'].replace ('f350','f-350')\n",
    "#data_train['model'] = data_train['model'].replace ('f-250 super duty','f-250')\n",
    "#data_train['model'] = data_train['model'].replace ('f-250 super duty','f-250')\n",
    "#data_train['model'] = data_train['model'].replace ('c-max hybrid','c-max')\n",
    "#data_train['model'] = data_train['model'].replace ('c-max energi','c-max')\n",
    "#data_train['model'] = data_train['model'].replace ('explorer sport','explorer')\n",
    "#data_train['model'] = data_train['model'].replace ('mustang svt cobra','mustang')\n",
    "#data_train['model'] = data_train['model'].replace ('expedit','expedition')\n",
    "#data_train['model'] = data_train['model'].replace ('focus st','focus')\n",
    "#data_train['model'] = data_train['model'].replace ('fusion energi','fusion')\n",
    "#data_train['model'] = data_train['model'].replace ('fusion hybrid','fusion')\n",
    "#data_train['model'] = data_train['model'].replace ('explorer sport trac','explorer')\n",
    "#data_train['model'] = data_train['model'].replace ('expeditn','explorer')\n",
    "#data_train['model'] = data_train['model'].replace ('expedition el','explorer')\n",
    "\n",
    "\n",
    "#print(data1['model'].value_counts())"
   ]
  },
  {
   "cell_type": "code",
   "execution_count": 63,
   "id": "a0947ccd",
   "metadata": {},
   "outputs": [],
   "source": [
    "data1 = data_train.query('make == \"chevrolet\"')\n",
    "data_train['model'] = data_train['model'].replace ('1500','silverado 1500')\n",
    "\n",
    "#упрощение\n",
    "#data_train['model'] = data_train['model'].replace ('2500','sierra 2500')\n",
    "#data_train['model'] = data_train['model'].replace ('g2500','sierra 2500')\n",
    "#data_train['model'] = data_train['model'].replace ('c/k 2500 series','sierra 2500')\n",
    "#data_train['model'] = data_train['model'].replace ('c/k 3500 series','silverado 3500')\n",
    "#data_train['model'] = data_train['model'].replace ('3500','silverado 3500')\n",
    "#data_train['model'] = data_train['model'].replace ('s-10 blazer','blazer')\n",
    "#data_train['model'] = data_train['model'].replace ('trailblazer ext','blazer')\n",
    "#data_train['model'] = data_train['model'].replace ('trailblazer ext','blazer')\n",
    "#data_train['model'] = data_train['model'].replace ('sierra 2500','sierra 2500')\n",
    "#data_train['model'] = data_train['model'].replace ('capt ','captiva sport')\n",
    "#data_train['model'] = data_train['model'].replace ('silverado 1500 classic','silverado 1500')\n",
    "#data_train['model'] = data_train['model'].replace ('silverado 1500hd','silverado 1500')\n",
    "#data_train['model'] = data_train['model'].replace ('1500','silverado 1500')\n",
    "#data_train['model'] = data_train['model'].replace ('c/k 1500 series','silverado 1500')\n",
    "#data_train['model'] = data_train['model'].replace ('g3500','silverado 3500')\n",
    "#data_train['model'] = data_train['model'].replace ('silverado 2500hd classic','silverado 2500')\n",
    "#data_train['model'] = data_train['model'].replace ('silverado 1500 hybrid','silverado 1500')\n",
    "#data_train['model'] = data_train['model'].replace ('g3500','silverado 1500')\n",
    "#data_train['model'] = data_train['model'].replace ('silverado 2500hd ','silverado 2500')\n",
    "#data_train['model'] = data_train['model'].replace ('silverado 3500 classic','silverado 3500')\n",
    "#data_train['model'] = data_train['model'].replace ('tahoe limited/z71','tahoe')\n",
    "#data_train['model'] = data_train['model'].replace ('tahoe hybrid','tahoe')\n",
    "#data_train['model'] = data_train['model'].replace ('g1500','silverado 1500')\n",
    "#data_train['model'] = data_train['model'].replace ('impala limited','impala')\n",
    "#data_train['model'] = data_train['model'].replace ('s-10','blazer')\n",
    "#data_train['model'] = data_train['model'].replace ('s10','blazer')\n",
    "#data_train['model'] = data_train['model'].replace ('capt','captiva sport')\n",
    "#data_train['model'] = data_train['model'].replace ('malibu maxx','malibu')\n",
    "#data_train['model'] = data_train['model'].replace ('malibu classic','malibu')\n",
    "#data_train['model'] = data_train['model'].replace ('3500 ','silverado 3500')\n",
    "#data_train['model'] = data_train['model'].replace ('corvette stingray','corvette')\n",
    "#data_train['model'] = data_train['model'].replace ('spark ev ','spark')\n",
    "#data_train['model'] = data_train['model'].replace ('black diamond avalanche','avalanche')\n",
    "#data_train['model'] = data_train['model'].replace ('malibu hybrid','malibu')\n",
    "#data_train['model'] = data_train['model'].replace ('malibu hybrid ','malibu')\n",
    "\n",
    "data_train = (data_train.query('model != \"comm\"'))\n",
    "data_train = (data_train.query('model != \"uplandr\"'))\n",
    "#print(data1['model'].value_counts())"
   ]
  },
  {
   "cell_type": "code",
   "execution_count": 64,
   "id": "1ed07b9b",
   "metadata": {},
   "outputs": [],
   "source": [
    "data1 = data_train.query('make == \"toyota\"')\n",
    "data_train['model'] = data_train['model'].replace ('pathfind ','pathfinder')\n",
    "\n",
    "#упрещение названия моделей\n",
    "#data_train['model'] = data_train['model'].replace ('camry hybrid','camry')\n",
    "#data_train['model'] = data_train['model'].replace ('highlander hybrid','highlander')\n",
    "#data_train['model'] = data_train['model'].replace ('camry hybrid','camry')\n",
    "#data_train['model'] = data_train['model'].replace ('camry solara','camry')\n",
    "#data_train['model'] = data_train['model'].replace ('prius c','prius')\n",
    "#data_train['model'] = data_train['model'].replace ('prius v','prius')\n",
    "#data_train['model'] = data_train['model'].replace ('prius plug-in','prius')\n",
    "#data_train['model'] = data_train['model'].replace ('avalon hybrid','avalon')\n",
    "\n",
    "#print(data1['model'].value_counts())"
   ]
  },
  {
   "cell_type": "code",
   "execution_count": 65,
   "id": "f8edf604",
   "metadata": {},
   "outputs": [],
   "source": [
    "data1 = data_train.query('make == \"dodge\"')\n",
    "data_train['model'] = data_train['model'].replace ('ram3500 ','ram pickup 3500')\n",
    "data_train['model'] = data_train['model'].replace ('b1500','ram pickup 1500')\n",
    "data_train['model'] = data_train['model'].replace ('gr','grand')\n",
    "#print(data1['model'].value_counts())"
   ]
  },
  {
   "cell_type": "code",
   "execution_count": 66,
   "id": "4121eb0e",
   "metadata": {},
   "outputs": [],
   "source": [
    "data1 = data_train.query('make == \"bmw\"')\n",
    "data_train['model'] = data_train['model'].replace ('x5','5 series')\n",
    "data_train['model'] = data_train['model'].replace ('x3','3 series')\n",
    "data_train['model'] = data_train['model'].replace ('x1','1 series')\n",
    "\n",
    "data_train['model'] = data_train['model'].replace ('x6','6 series')\n",
    "data_train['model'] = data_train['model'].replace ('x4','4 series')\n",
    "data_train['model'] = data_train['model'].replace ('7','7 series')\n",
    "\n",
    "#print(data1['model'].value_counts())"
   ]
  },
  {
   "cell_type": "code",
   "execution_count": 67,
   "id": "685cd4e9",
   "metadata": {},
   "outputs": [],
   "source": [
    "data1 = data_train.query('make == \"chrysler\"')\n",
    "data_train['model'] = data_train['model'].replace ('twn&country','town and country')\n",
    "data_train['model'] = data_train['model'].replace ('twn/cntry','town and country')\n",
    "data_train['model'] = data_train['model'].replace ('pt','pt cruiser')\n",
    "data_train['model'] = data_train['model'].replace ('town','town and country')\n",
    "#print(data1['model'].value_counts())"
   ]
  },
  {
   "cell_type": "code",
   "execution_count": 68,
   "id": "7f1c6c16",
   "metadata": {},
   "outputs": [],
   "source": [
    "data1 = data_train.query('make == \"mercedes\"')\n",
    "data_train['model'] = data_train['model'].replace ('500-class','s-class')\n",
    "data_train['model'] = data_train['model'].replace ('c240w','c-class')\n",
    "data_train['model'] = data_train['model'].replace ('c230wz','c-class')\n",
    "data_train['model'] = data_train['model'].replace ('300e','e-class')\n",
    "data_train['model'] = data_train['model'].replace ('cl55','c-class')\n",
    "data_train['model'] = data_train['model'].replace ('s55','s-class')\n",
    "data_train['model'] = data_train['model'].replace ('b200','b-class')\n",
    "data_train['model'] = data_train['model'].replace ('b-class electric drive','b-class')\n",
    "data_train['model'] = data_train['model'].replace ('c240s','c-class')\n",
    "data_train['model'] = data_train['model'].replace ('c230','c-class')\n",
    "data_train['model'] = data_train['model'].replace ('sl55','s-class')\n",
    "data_train['model'] = data_train['model'].replace ('g500','g-class')\n",
    "data_train['model'] = data_train['model'].replace ('g55','g-class')\n",
    "data_train['model'] = data_train['model'].replace ('ml55 amg','m-class')\n",
    "data_train['model'] = data_train['model'].replace ('420sel','s-class')\n",
    "data_train['model'] = data_train['model'].replace ('e300dt','e-class')\n",
    "data_train['model'] = data_train['model'].replace ('420-class','s-class')\n",
    "\n",
    "#print(data1['model'].value_counts())"
   ]
  },
  {
   "cell_type": "code",
   "execution_count": 69,
   "id": "4f093fc7",
   "metadata": {},
   "outputs": [],
   "source": [
    "data1=data_train.query('make == \"nissan\"')\n",
    "\n",
    "#nissan - упрощение\n",
    "#data_train['model'] = data_train['model'].replace ('versa note','versa')\n",
    "#data_train['model'] = data_train['model'].replace ('rogue select','rogue')\n",
    "#data_train['model'] = data_train['model'].replace ('altima hybrid','altima')\n",
    "#data_train['model'] = data_train['model'].replace ('murano crosscabriolet','murano')\n",
    "#data_train['model'] = data_train['model'].replace ('pathfind','pathfinder')\n",
    "\n",
    "#print(data1['model'].value_counts())"
   ]
  },
  {
   "cell_type": "code",
   "execution_count": 70,
   "id": "f89c84cc",
   "metadata": {},
   "outputs": [
    {
     "data": {
      "text/plain": [
       "array(['sel', 'se', '2.0 sl', ..., '2.5 x l.l.bean edition',\n",
       "       '3500 high roof 140 wb', '4x4 v6 xlt sport'], dtype=object)"
      ]
     },
     "execution_count": 70,
     "metadata": {},
     "output_type": "execute_result"
    }
   ],
   "source": [
    "data_train['trim'].unique()"
   ]
  },
  {
   "cell_type": "code",
   "execution_count": 71,
   "id": "de128e28",
   "metadata": {},
   "outputs": [],
   "source": [
    "data1 = data_train.query('make == \"jeep\"')\n",
    "data_train['model'] = data_train['model'].replace ('grand','grand cherokee')\n",
    "\n",
    "#print(data1['model'].value_counts())"
   ]
  },
  {
   "cell_type": "code",
   "execution_count": 72,
   "id": "142afa3a",
   "metadata": {},
   "outputs": [],
   "source": [
    "data1 = data_train.query('make == \"gmc\"')\n",
    "data_train['model'] = data_train['model'].replace ('safari cargo','safari')\n",
    "data_train['model'] = data_train['model'].replace ('sierra 1500 hybrid','sierra 1500hd')\n",
    "\n",
    "#print(data1['model'].value_counts())"
   ]
  },
  {
   "cell_type": "code",
   "execution_count": 73,
   "id": "68262612",
   "metadata": {},
   "outputs": [],
   "source": [
    "# Просмотр уникальных названий типов кузова\n",
    "df1= data_train['body']\n",
    "df1= df1.sort_values()\n",
    "df1=df1.unique()\n",
    "\n",
    "#print(df1)"
   ]
  },
  {
   "cell_type": "code",
   "execution_count": 74,
   "id": "01aa3be1",
   "metadata": {},
   "outputs": [],
   "source": [
    "#замена неявных дубликатов  в типе кузова\n",
    "data_train['body'] = data_train['body'].replace ('regular-cab','regular cab')"
   ]
  },
  {
   "cell_type": "code",
   "execution_count": 75,
   "id": "49cb14ad",
   "metadata": {},
   "outputs": [
    {
     "data": {
      "text/plain": [
       "array(['automatic', nan, 'manual'], dtype=object)"
      ]
     },
     "execution_count": 75,
     "metadata": {},
     "output_type": "execute_result"
    }
   ],
   "source": [
    "data_train['transmission'].unique()"
   ]
  },
  {
   "cell_type": "code",
   "execution_count": 76,
   "id": "c08cce61",
   "metadata": {},
   "outputs": [
    {
     "name": "stdout",
     "output_type": "stream",
     "text": [
      "[4.2 3.5 2.2 2.8 2.0 2.5 3.4 4.8 1.9 1.0 3.1 2.7 3.6 2.9 4.1 2.6 2.1 3.0\n",
      " 4.9 4.7 4.0 3.3 3.8 3.7 4.5 4.6 5.0 4.3 2.4 2.3 3.9 nan 3.2 4.4 1.4 1.5\n",
      " 1.7 1.2 1.3 1.6 1.8 1.1]\n"
     ]
    }
   ],
   "source": [
    "#пропуски в графе 'condition' заменим на заполним значением -1 , а потом признакми в этой графе сделаем с типом object, \n",
    "#чтобы после кодировки они стали категориальынми значаниями\n",
    "\n",
    "\n",
    "data_train['condition'] = data_train['condition'].astype(object)\n",
    "print(data_train['condition'].unique())"
   ]
  },
  {
   "cell_type": "code",
   "execution_count": 77,
   "id": "f374f237",
   "metadata": {},
   "outputs": [
    {
     "name": "stdout",
     "output_type": "stream",
     "text": [
      "<bound method DataFrame.count of Empty DataFrame\n",
      "Columns: [year, make, model, trim, body, transmission, vin, state, condition, odometer, color, interior, seller, sellingprice, saledate]\n",
      "Index: []>\n",
      "<bound method DataFrame.count of Empty DataFrame\n",
      "Columns: [year, make, model, trim, body, transmission, vin, state, condition, odometer, color, interior, seller, sellingprice, saledate]\n",
      "Index: []>\n"
     ]
    },
    {
     "data": {
      "text/plain": [
       "array(['black', 'gold', 'silver', 'blue', 'white', 'gray', 'nan', 'red',\n",
       "       'brown', 'green', 'beige', 'orange', nan, 'burgundy', 'yellow',\n",
       "       'purple', 'turquoise', 'lime', 'pink'], dtype=object)"
      ]
     },
     "execution_count": 77,
     "metadata": {},
     "output_type": "execute_result"
    }
   ],
   "source": [
    "data_train['color'] = data_train['color'].replace ('off-white','white')\n",
    "data_train['color'] = data_train['color'].replace ('charcoal','gray')\n",
    "print(data_train[data_train['color'] == 'charcoal'].count)\n",
    "print(data_train[data_train['color'] == 'off-white'].count)\n",
    "data_train['color'] = data_train['color'].replace ('—','nan')\n",
    "data_train['color'].unique()"
   ]
  },
  {
   "cell_type": "code",
   "execution_count": 78,
   "id": "58a6b62b",
   "metadata": {},
   "outputs": [
    {
     "data": {
      "text/plain": [
       "array(['black', 'beige', 'gray', 'tan', 'brown', '—', 'white', nan,\n",
       "       'blue', 'silver', 'red', 'green', 'gold', 'purple', 'orange',\n",
       "       'burgundy', 'yellow'], dtype=object)"
      ]
     },
     "execution_count": 78,
     "metadata": {},
     "output_type": "execute_result"
    }
   ],
   "source": [
    "data_train['interior'] = data_train['interior'].replace ('off-white','white')\n",
    "data_train['interior'].unique()"
   ]
  },
  {
   "cell_type": "markdown",
   "id": "7c2062ae",
   "metadata": {},
   "source": [
    "4.Заменим пробелы: в качественных данны на \"Unknown\", в количественных - на ноль."
   ]
  },
  {
   "cell_type": "code",
   "execution_count": 79,
   "id": "77903504",
   "metadata": {},
   "outputs": [
    {
     "name": "stdout",
     "output_type": "stream",
     "text": [
      "year            0\n",
      "make            0\n",
      "model           0\n",
      "trim            0\n",
      "body            0\n",
      "transmission    0\n",
      "vin             0\n",
      "state           0\n",
      "condition       0\n",
      "odometer        0\n",
      "color           0\n",
      "interior        0\n",
      "seller          0\n",
      "sellingprice    0\n",
      "saledate        0\n",
      "dtype: int64\n"
     ]
    }
   ],
   "source": [
    "column_to_replace = ['make', 'model', 'trim', 'body', 'transmission', 'color', 'interior', 'condition']\n",
    "for i in column_to_replace:\n",
    "    data_train[i] = data_train[i].fillna('unknown')\n",
    "\n",
    "    \n",
    "data_train['odometer'] = data_train['odometer'].fillna(0)\n",
    "\n",
    "\n",
    "print(data_train.isna().sum())\n"
   ]
  },
  {
   "cell_type": "code",
   "execution_count": 80,
   "id": "cfe7c8a1",
   "metadata": {},
   "outputs": [
    {
     "name": "stdout",
     "output_type": "stream",
     "text": [
      "<class 'pandas.core.frame.DataFrame'>\n",
      "Int64Index: 440234 entries, 0 to 440235\n",
      "Data columns (total 15 columns):\n",
      " #   Column        Non-Null Count   Dtype  \n",
      "---  ------        --------------   -----  \n",
      " 0   year          440234 non-null  int64  \n",
      " 1   make          440234 non-null  object \n",
      " 2   model         440234 non-null  object \n",
      " 3   trim          440234 non-null  object \n",
      " 4   body          440234 non-null  object \n",
      " 5   transmission  440234 non-null  object \n",
      " 6   vin           440234 non-null  object \n",
      " 7   state         440234 non-null  object \n",
      " 8   condition     440234 non-null  object \n",
      " 9   odometer      440234 non-null  float64\n",
      " 10  color         440234 non-null  object \n",
      " 11  interior      440234 non-null  object \n",
      " 12  seller        440234 non-null  object \n",
      " 13  sellingprice  440234 non-null  int64  \n",
      " 14  saledate      440234 non-null  object \n",
      "dtypes: float64(1), int64(2), object(12)\n",
      "memory usage: 53.7+ MB\n",
      "None\n"
     ]
    }
   ],
   "source": [
    "print(data_train.info())"
   ]
  },
  {
   "cell_type": "markdown",
   "id": "b8200b4e",
   "metadata": {},
   "source": [
    "***АНАЛИЗ ДАННЫХ***"
   ]
  },
  {
   "cell_type": "code",
   "execution_count": 81,
   "id": "5be73767",
   "metadata": {},
   "outputs": [
    {
     "data": {
      "text/plain": [
       "<AxesSubplot:>"
      ]
     },
     "execution_count": 81,
     "metadata": {},
     "output_type": "execute_result"
    },
    {
     "data": {
      "image/png": "[encoded data removed]",
      "text/plain": [
       "<Figure size 640x480 with 1 Axes>"
      ]
     },
     "metadata": {},
     "output_type": "display_data"
    }
   ],
   "source": [
    "#гистограмма по распредению цен на авто \n",
    "data_train['sellingprice'].hist(bins=300)"
   ]
  },
  {
   "cell_type": "code",
   "execution_count": 82,
   "id": "b7914d66",
   "metadata": {},
   "outputs": [
    {
     "data": {
      "text/plain": [
       "<AxesSubplot:>"
      ]
     },
     "execution_count": 82,
     "metadata": {},
     "output_type": "execute_result"
    },
    {
     "data": {
      "image/png": "[encoded data removed]",
      "text/plain": [
       "<Figure size 640x480 with 1 Axes>"
      ]
     },
     "metadata": {},
     "output_type": "display_data"
    }
   ],
   "source": [
    "#гистограмма по распредению цен на авто \n",
    "data_train['odometer'].hist(bins=500)"
   ]
  },
  {
   "cell_type": "markdown",
   "id": "1fcd5561",
   "metadata": {},
   "source": [
    "Вывод: есть данные, где цена продажи равна нулю, их следуте удалить из датасета, как ошибки."
   ]
  },
  {
   "cell_type": "code",
   "execution_count": 83,
   "id": "ff6bf493",
   "metadata": {},
   "outputs": [
    {
     "name": "stdout",
     "output_type": "stream",
     "text": [
      "        year      make             model     trim      body transmission  \\\n",
      "137962  2003  mercedes           e-class     e500     sedan    automatic   \n",
      "418021  2002      ford  f-350 super duty      xlt  crew cab      unknown   \n",
      "262011  2008  chrysler        pt cruiser  touring     wagon    automatic   \n",
      "331771  1995   mercury     grand marquis       ls     sedan      unknown   \n",
      "18762   2002      ford            taurus      ses     sedan      unknown   \n",
      "\n",
      "                      vin state condition  odometer   color interior  \\\n",
      "137962  wdbuf70j73a269529    ga       2.1       1.0   black    black   \n",
      "418021  1ftsw31f52ed16477    ca       2.0       0.0   white     gray   \n",
      "262011  3a8fy58b48t155048    hi       2.5   90335.0   white     gray   \n",
      "331771  2melm75wxsx700523    ms       1.0  165658.0   green    green   \n",
      "18762   1fafp55222a271061    pa       1.9  132230.0  silver     gray   \n",
      "\n",
      "                                                  seller  sellingprice  \\\n",
      "137962                        peoples credit company inc             1   \n",
      "418021                                       laa leasing             1   \n",
      "262011                               first hawaiian bank           100   \n",
      "331771  select remarketing group llc/midwest title loans           100   \n",
      "18762                                  hertz remarketing           100   \n",
      "\n",
      "                                       saledate  \n",
      "137962  Tue Jan 06 2015 09:30:00 GMT-0800 (PST)  \n",
      "418021  Thu Feb 05 2015 04:00:00 GMT-0800 (PST)  \n",
      "262011  Tue Feb 24 2015 16:00:00 GMT-0800 (PST)  \n",
      "331771  Thu Apr 23 2015 05:02:00 GMT-0700 (PDT)  \n",
      "18762   Fri Jun 05 2015 02:00:00 GMT-0700 (PDT)  \n"
     ]
    }
   ],
   "source": [
    "sorted_df = data_train.sort_values(by='sellingprice') \n",
    "print(sorted_df.head())"
   ]
  },
  {
   "cell_type": "code",
   "execution_count": 84,
   "id": "a9082e14",
   "metadata": {},
   "outputs": [],
   "source": [
    "sorted_series = data_train['sellingprice'].sort_values(ascending=True)\n",
    "#print(sorted_series.head(20))"
   ]
  },
  {
   "cell_type": "code",
   "execution_count": 85,
   "id": "468b2361",
   "metadata": {},
   "outputs": [
    {
     "name": "stdout",
     "output_type": "stream",
     "text": [
      "<class 'pandas.core.frame.DataFrame'>\n",
      "Int64Index: 440234 entries, 0 to 440235\n",
      "Data columns (total 19 columns):\n",
      " #   Column          Non-Null Count   Dtype  \n",
      "---  ------          --------------   -----  \n",
      " 0   year            440234 non-null  int64  \n",
      " 1   make            440234 non-null  object \n",
      " 2   model           440234 non-null  object \n",
      " 3   trim            440234 non-null  object \n",
      " 4   body            440234 non-null  object \n",
      " 5   transmission    440234 non-null  object \n",
      " 6   vin             440234 non-null  object \n",
      " 7   state           440234 non-null  object \n",
      " 8   condition       440234 non-null  object \n",
      " 9   odometer        440234 non-null  float64\n",
      " 10  color           440234 non-null  object \n",
      " 11  interior        440234 non-null  object \n",
      " 12  seller          440234 non-null  object \n",
      " 13  sellingprice    440234 non-null  int64  \n",
      " 14  saledate        440234 non-null  object \n",
      " 15  saledate_dt     440234 non-null  int64  \n",
      " 16  saledate_year   440234 non-null  int64  \n",
      " 17  saledate_month  440234 non-null  int64  \n",
      " 18  term of use     440234 non-null  int64  \n",
      "dtypes: float64(1), int64(6), object(12)\n",
      "memory usage: 67.2+ MB\n",
      "None\n"
     ]
    }
   ],
   "source": [
    "#предобработка времени - преобразуме данные в колонке saleprice, чтобы далее их можноб было разбить на новые признаки\n",
    "\n",
    "data_train['saledate_dt'] = pd.to_datetime(data_train['saledate'], utc=True).dt.dayofweek\n",
    "data_train['saledate_year'] = pd.to_datetime(data_train['saledate'], utc=True).dt.year\n",
    "data_train['saledate_month'] = pd.to_datetime(data_train['saledate'], utc=True).dt.month\n",
    "data_train['term of use'] = data_train['saledate_year'] - data_train['year']\n",
    "                                 \n",
    "\n",
    "print(data_train.info())"
   ]
  },
  {
   "cell_type": "code",
   "execution_count": 86,
   "id": "5a1c0119",
   "metadata": {},
   "outputs": [
    {
     "name": "stdout",
     "output_type": "stream",
     "text": [
      "Тренировочные данные\n"
     ]
    },
    {
     "data": {
      "text/plain": [
       "<AxesSubplot:>"
      ]
     },
     "execution_count": 86,
     "metadata": {},
     "output_type": "execute_result"
    },
    {
     "data": {
      "image/png": "[encoded data removed]",
      "text/plain": [
       "<Figure size 640x480 with 2 Axes>"
      ]
     },
     "metadata": {},
     "output_type": "display_data"
    }
   ],
   "source": [
    "#тепловая карта корреляции  -проверим корреляцию данных \n",
    "print ('Тренировочные данные')\n",
    "upp_mat = np.triu(data_train.corr())\n",
    "sns.heatmap(data_train.corr(), annot = True)"
   ]
  },
  {
   "cell_type": "markdown",
   "id": "5a4e849e",
   "metadata": {},
   "source": [
    "***Вывод***\n",
    "На карте видна сильная зависимость года от срока и использования, поэтому следует из признаков удалить колонку 'year'"
   ]
  },
  {
   "cell_type": "markdown",
   "id": "164e2f3c",
   "metadata": {},
   "source": [
    "5. Удалим из тренировочной базы данные, где цена продажи меньше 2, а также, где указаан некорректная модель."
   ]
  },
  {
   "cell_type": "markdown",
   "id": "a525ad42",
   "metadata": {},
   "source": [
    "data_train = (data_train.query('sellingprice >2')) \n",
    "data_train = (data_train.query('model != \"comm\"'))\n",
    "data_train = (data_train.query('model != \"uplandr\"'))\n",
    "\n",
    "\n",
    "                               \n",
    "#print(data_train.query('sellingprice == 1'comm')) \n",
    "sorted_series = data_train['sellingprice'].sort_values(ascending=True)\n",
    "print(sorted_series.head(20))"
   ]
  },
  {
   "cell_type": "markdown",
   "id": "cffbfa51",
   "metadata": {},
   "source": [
    "***Итоги предобработки данных:***\n",
    "\n",
    "- все данные приведены к нижнему регистру;\n",
    "- пропуски в графе 'condition' заполнены значением -1  и им присвоен тип  потом object, \n",
    "чтобы после кодировки они стали категориальынми значаниями;\n",
    "- обработаны пробелы в датасете: в качественных данных они заменены  на \"Unknown\", в количественных - на ноль;\n",
    "- по результатам тепловой карты было принято решение удалить признак 'year', так как он сильно коррелируте с данным по колонке odometer;\n",
    "- из данных уделены строки, где цена продажи <1, как ошибочные;\n",
    "- проведена унификация неявных дубликатов среди следующих признаков: model, body, color, \n",
    "- выделены новые признаки на основе данных колонки \"saledate\":saledate_dt - день недел, когда авто было продано, saledate_year - год продажи, saledate_month - месяц продажи и term of use - срок эксплуатации авто до продажи."
   ]
  },
  {
   "cell_type": "markdown",
   "id": "737efef6",
   "metadata": {},
   "source": [
    "***ОБУЧЕНИЕ И ПРОВЕРКА МОДЕЛИ***"
   ]
  },
  {
   "cell_type": "markdown",
   "id": "b48ba131",
   "metadata": {},
   "source": [
    "***Извлечение признаков и разбивка данных на выборки:тренирвочную и валидационную***"
   ]
  },
  {
   "cell_type": "markdown",
   "id": "ce1306b2",
   "metadata": {},
   "source": [
    "Удалим лишние признаки, такие как: vin, seller, state, saledate, saledate-year. Признаки vin, seller - уникальные."
   ]
  },
  {
   "cell_type": "markdown",
   "id": "b10279bf",
   "metadata": {},
   "source": [
    "Выделим по каждой базе данных обучающую и  валидационную  выборки в соотношении 75:25."
   ]
  },
  {
   "cell_type": "code",
   "execution_count": 87,
   "id": "11653141",
   "metadata": {},
   "outputs": [
    {
     "name": "stdout",
     "output_type": "stream",
     "text": [
      "Index(['year', 'make', 'model', 'trim', 'body', 'transmission', 'vin', 'state',\n",
      "       'condition', 'odometer', 'color', 'interior', 'seller', 'sellingprice',\n",
      "       'saledate', 'saledate_dt', 'saledate_year', 'saledate_month',\n",
      "       'term of use'],\n",
      "      dtype='object')\n"
     ]
    }
   ],
   "source": [
    "print(data_train.columns)"
   ]
  },
  {
   "cell_type": "code",
   "execution_count": 94,
   "id": "837af6ce",
   "metadata": {},
   "outputs": [
    {
     "name": "stdout",
     "output_type": "stream",
     "text": [
      "Размер обучающей выборки: (330175, 14)\n",
      "Размер валидационной выборки: (110059, 14)\n"
     ]
    }
   ],
   "source": [
    "# отделите 25% данных для валидационной выборки\n",
    "for_sampling = data_train.drop(columns=['vin','seller', 'state', 'saledate','year'], axis=1)\n",
    "\n",
    "#разобьем данные на выборки\n",
    "df_train, df_valid = train_test_split(for_sampling, test_size=0.25, random_state=12345)\n",
    "\n",
    "print('Размер обучающей выборки:', df_train.shape)\n",
    "print('Размер валидационной выборки:',df_valid.shape)\n",
    "#print(df_train.info())"
   ]
  },
  {
   "cell_type": "markdown",
   "id": "1303c223",
   "metadata": {},
   "source": [
    "Преобразовать категориальные признаки в численные техникой One-Hot Encoding(OHE) и уберем лишние столбцы, чтобы не попасть в дамми-ловушку"
   ]
  },
  {
   "cell_type": "code",
   "execution_count": 95,
   "id": "d2ccb4be",
   "metadata": {},
   "outputs": [],
   "source": [
    "#проведем кодирование выборок\n",
    "df_train = pd.get_dummies(df_train, drop_first=True)\n",
    "df_valid = pd.get_dummies(df_valid, drop_first=True)"
   ]
  },
  {
   "cell_type": "code",
   "execution_count": 96,
   "id": "6edb0f77",
   "metadata": {},
   "outputs": [
    {
     "name": "stdout",
     "output_type": "stream",
     "text": [
      "Index(['make', 'model', 'trim', 'body', 'transmission', 'condition',\n",
      "       'odometer', 'color', 'interior', 'sellingprice', 'saledate_dt',\n",
      "       'saledate_year', 'saledate_month', 'term of use'],\n",
      "      dtype='object')\n"
     ]
    }
   ],
   "source": [
    "# < создаем переменные для признаков и целевого признака >\n",
    "features_train = df_train.drop(['sellingprice'], axis=1)\n",
    "target_train = df_train['sellingprice']\n",
    "\n",
    "features_valid = df_valid.drop(['sellingprice'], axis=1)\n",
    "target_valid = df_valid['sellingprice']\n",
    "\n",
    "\n",
    "#print('Признаки в выборках')\n",
    "#print('Обучающая выборка', features_train.head())\n",
    "#print('Валидационная выборка', features_valid.head())\n",
    "print(for_sampling.columns)"
   ]
  },
  {
   "cell_type": "markdown",
   "id": "9fe5fd55",
   "metadata": {},
   "source": [
    "***Проведем стандартизацию данных***"
   ]
  },
  {
   "cell_type": "code",
   "execution_count": 97,
   "id": "b110bcbc",
   "metadata": {},
   "outputs": [
    {
     "name": "stdout",
     "output_type": "stream",
     "text": [
      "Проверка выполения стандартизации\n",
      " \n",
      "обучающая выборка\n",
      "валидационная выборка\n",
      "        odometer  saledate_dt  saledate_year  saledate_month  term of use  \\\n",
      "47459  -1.039398    -1.187715           2015       -0.251456    -0.975924   \n",
      "398626 -0.569053    -1.187715           2015        0.364746    -0.470144   \n",
      "316516 -0.591212    -1.187715           2015       -0.867658    -0.723034   \n",
      "397157 -0.028790     2.031449           2014        2.521451    -0.723034   \n",
      "316804 -0.987707     1.226658           2015       -0.867658    -0.723034   \n",
      "\n",
      "        make_aston martin  make_audi  make_bentley  make_bmw  make_buick  ...  \\\n",
      "47459                   0          0             0         0           0  ...   \n",
      "398626                  0          0             0         0           0  ...   \n",
      "316516                  0          0             0         0           0  ...   \n",
      "397157                  0          0             0         0           0  ...   \n",
      "316804                  0          0             0         0           0  ...   \n",
      "\n",
      "        interior_green  interior_orange  interior_purple  interior_red  \\\n",
      "47459                0                0                0             0   \n",
      "398626               0                0                0             0   \n",
      "316516               0                0                0             0   \n",
      "397157               0                0                0             0   \n",
      "316804               0                0                0             0   \n",
      "\n",
      "        interior_silver  interior_tan  interior_unknown  interior_white  \\\n",
      "47459                 0             0                 0               0   \n",
      "398626                0             0                 0               0   \n",
      "316516                0             0                 0               0   \n",
      "397157                0             0                 0               0   \n",
      "316804                0             0                 0               0   \n",
      "\n",
      "        interior_yellow  interior_—  \n",
      "47459                 0           0  \n",
      "398626                0           0  \n",
      "316516                0           0  \n",
      "397157                0           0  \n",
      "316804                0           0  \n",
      "\n",
      "[5 rows x 2340 columns]\n"
     ]
    }
   ],
   "source": [
    "#список всех численных признаков.\n",
    "numeric = ['saledate_dt','odometer', 'term of use', 'saledate_month']\n",
    "\n",
    "\n",
    "#создадим объект стандартизации и обучим его\n",
    "scaler = StandardScaler()    \n",
    "scaler.fit(features_train[numeric])\n",
    "#сохраним преобразованные обучающую,валидационную и тестовую  выборки в переменные\n",
    "features_train[numeric] = scaler.transform(features_train[numeric])\n",
    "features_valid[numeric] = scaler.transform(features_valid[numeric]) \n",
    "\n",
    "\n",
    "features_train_scaled = scaler.transform(features_train[numeric])\n",
    "features_valid_scaled = scaler.transform(features_valid[numeric])\n",
    "\n",
    "\n",
    "pd.options.mode.chained_assignment = None\n",
    "\n",
    "print('Проверка выполения стандартизации')\n",
    "print(' ')\n",
    "print('обучающая выборка')\n",
    "#print(features_train.head())\n",
    "print('валидационная выборка')\n",
    "print(features_valid.head())\n",
    "                              "
   ]
  },
  {
   "cell_type": "markdown",
   "id": "2834d416",
   "metadata": {},
   "source": [
    "Сбросим индексы, чтобы в дальнейшем было проще сопотавлять данные по target и predicton"
   ]
  },
  {
   "cell_type": "code",
   "execution_count": 98,
   "id": "1ce87fa5",
   "metadata": {},
   "outputs": [
    {
     "name": "stdout",
     "output_type": "stream",
     "text": [
      "Index(['year', 'make', 'model', 'trim', 'body', 'transmission', 'vin', 'state',\n",
      "       'condition', 'odometer', 'color', 'interior', 'seller', 'sellingprice',\n",
      "       'saledate', 'saledate_dt', 'saledate_year', 'saledate_month',\n",
      "       'term of use'],\n",
      "      dtype='object')\n"
     ]
    }
   ],
   "source": [
    "features_train = features_train.reset_index(drop=True)\n",
    "features_valid = features_valid.reset_index(drop=True)\n",
    "target_train = target_train.reset_index(drop=True)\n",
    "target_valid = target_valid.reset_index(drop=True)\n",
    "print(data_train.columns)"
   ]
  },
  {
   "cell_type": "markdown",
   "id": "b9b408c2",
   "metadata": {},
   "source": [
    "Обучим модель линейной регрессии и сделаем предсказания на валидационной выборке. Сохраним предсказания на валидационной выборке."
   ]
  },
  {
   "cell_type": "markdown",
   "id": "2d433054",
   "metadata": {},
   "source": [
    "***ВЫВОД:*** Кодирование и стандартизация проведены верно."
   ]
  },
  {
   "cell_type": "markdown",
   "id": "d78d5bf3",
   "metadata": {},
   "source": [
    "***ОБУЧЕНИЕ МОДЕЛЕЙ***"
   ]
  },
  {
   "cell_type": "markdown",
   "id": "972cc061",
   "metadata": {},
   "source": [
    "***Линейная регрессия*** "
   ]
  },
  {
   "cell_type": "code",
   "execution_count": 100,
   "id": "ce5ea69a",
   "metadata": {},
   "outputs": [
    {
     "name": "stdout",
     "output_type": "stream",
     "text": [
      "Линейная регрессия\n",
      "\n",
      "MAPE   : 0.86\n",
      "MAPE % : 86.18 %\n",
      "\n"
     ]
    }
   ],
   "source": [
    "from sklearn.metrics import mean_absolute_percentage_error\n",
    "#инициализируем модель LinearRegression\n",
    "model = LinearRegression()\n",
    "\n",
    "#обучим модель\n",
    "model.fit(features_train_scaled,target_train)\n",
    "\n",
    "#получим и сохраним предсказания модели на валидационной выборке\n",
    "predicted_valid = model.predict(features_valid_scaled)\n",
    "\n",
    "\n",
    "mape = mean_absolute_percentage_error(target_valid, predicted_valid)\n",
    "#вывод MAPE в знаени и процентах\n",
    "\n",
    "print('Линейная регрессия')\n",
    "print(f'''\n",
    "MAPE   : { round(mape, 2) }\n",
    "MAPE % : { round(mape*100, 2) } %\n",
    "''')"
   ]
  },
  {
   "cell_type": "markdown",
   "id": "c16e98c7",
   "metadata": {},
   "source": [
    "***Дерево решений***"
   ]
  },
  {
   "cell_type": "code",
   "execution_count": 101,
   "id": "f9ab3a97",
   "metadata": {},
   "outputs": [
    {
     "name": "stdout",
     "output_type": "stream",
     "text": [
      "Наилучшая глубина обученного дерева 18\n",
      "Минимальное количество выборок 3\n",
      "Минимальный MAPE 0.5868085014476925\n",
      "\n",
      "MAPE   : 0.59\n",
      "MAPE % : 58.68 %\n",
      "\n"
     ]
    }
   ],
   "source": [
    "#DecisionTreeRegressor\n",
    "#подберем наилучшую модель, указывая глубину обученного дерева и min кол-во  объектов обучающей выборки в узле\n",
    "best_depth = 0\n",
    "best_est = 0\n",
    "best_mape = 1\n",
    "best_samples = 0\n",
    "for depth in range(1, 50):\n",
    "    for samples in range (2,4):\n",
    "        model = DecisionTreeRegressor (max_depth=depth, criterion='squared_error', random_state=12345,      min_samples_split=samples)\n",
    "        model.fit(features_train_scaled,target_train) # # обучаем модель на тренировочной выборке\n",
    "        predictions_valid = model.predict(features_valid_scaled) # посчитаем качество модели на валидационной выборк\n",
    "        mape = mean_absolute_percentage_error(target_valid, predictions_valid)\n",
    "        if mape < best_mape:\n",
    "            best_mape = mape #наименьший процент отклонения от таргета\n",
    "            best_depth = depth\n",
    "            best_samples = samples\n",
    "print('Наилучшая глубина обученного дерева', best_depth)\n",
    "print('Минимальное количество выборок', best_samples)\n",
    "print('Минимальный MAPE', best_mape)\n",
    "print(f'''\n",
    "MAPE   : { round(best_mape, 2) }\n",
    "MAPE % : { round(best_mape*100, 2) } %\n",
    "''')"
   ]
  },
  {
   "cell_type": "code",
   "execution_count": null,
   "id": "802cf457",
   "metadata": {},
   "outputs": [],
   "source": [
    "import numpy as np\n",
    "from sklearn.ensemble import RandomForestClassifier\n",
    "from sklearn.model_selection import GridSearchCV\n",
    "from scipy.stats import randint\n",
    "from sklearn.model_selection import RandomizedSearchCV\n",
    "\n",
    "# initializing random forest\n",
    "rf = RandomForestRegressor ()\n",
    "\n",
    "# grid search cv\n",
    "grid_space={'max_depth':[3,5,10,None],\n",
    "              'n_estimators':[5,10,100]\n",
    "           }\n",
    "\n",
    "grid = GridSearchCV(rf,param_grid=grid_space,cv=3,scoring='accuracy')\n",
    "model_grid = grid.fit(features_train_scaled,target_train)\n",
    "\n",
    "# grid search results\n",
    "print('Best grid search hyperparameters are: '+str(model_grid.best_params_))\n",
    "print('Best grid search score is: '+str(model_grid.best_score_))\n",
    "\n",
    "# random search cv\n",
    "rs={'max_depth':list(np.arange(10, 100, step=10)) + [None] }\n",
    "\n",
    "rf = RandomForestRegressor ()\n",
    "\n",
    "rf_random = RandomizedSearchCV(rf, rs, scoring='accuracy')\n",
    "model_random = rf_random.fit(features_train_scaled,target_train)\n",
    "\n",
    "# random random search results\n",
    "print('Best random search hyperparameters are: '+str(model_random.best_params_))\n",
    "print('Best random search score is: '+str(model_random.best_score_))"
   ]
  },
  {
   "cell_type": "code",
   "execution_count": null,
   "id": "bbf32d85",
   "metadata": {},
   "outputs": [],
   "source": [
    "# RandomForestRegressor на основе данных grid search\n",
    "\n",
    "model_gs = RandomForestRegressor (max_depth=10, min_samples_leaf=2, random_state=12345)\n",
    "model_gs.fit(features_train_scaled,target_train) # # обучаем модель на тренировочной выборке\n",
    "predictions_valid_gs = model_gs.predict(features_valid_scaled) # посчитаем качество модели на валидационной выборк\n",
    "mape_gs = mean_absolute_percentage_error(target_valid, predictions_valid1)\n",
    "\n",
    "print('RandomForestRegressor на основе данных grid search')\n",
    "print(f'''\n",
    "MAPE   : { round(mape_gs, 2) }\n",
    "MAPE % : { round(mape_gs*100, 2) } %\n",
    "''')"
   ]
  },
  {
   "cell_type": "code",
   "execution_count": 103,
   "id": "513d3379",
   "metadata": {},
   "outputs": [
    {
     "name": "stdout",
     "output_type": "stream",
     "text": [
      "Наибольшая доля правильных ответов: 0.5654301702988175\n",
      "Наилучшая глубина обученного дерева 19\n",
      "Минимальное количество выборок 8\n",
      "\n",
      "MAPE   : 0.57\n",
      "MAPE % : 56.54 %\n",
      "\n"
     ]
    }
   ],
   "source": [
    "# RandomForestRegressor - подбор в одном цикле\n",
    "\n",
    "\n",
    "best_depth = 0\n",
    "best_est = 0\n",
    "best_mape = 1\n",
    "best_samples = 0\n",
    "for depth in range(1, 20):\n",
    "    for est in range (1,20):\n",
    "        model1 = RandomForestRegressor (max_depth=depth, n_estimators = est, min_samples_leaf=2, random_state=12345)\n",
    "        model1.fit(features_train_scaled,target_train) # # обучаем модель на тренировочной выборке\n",
    "        predictions_valid1 = model1.predict(features_valid_scaled) # посчитаем качество модели на валидационной выборк\n",
    "        mape1 = mean_absolute_percentage_error(target_valid, predictions_valid1)\n",
    "        if mape1 < best_mape:\n",
    "            best_mape = mape1\n",
    "            best_depth = depth\n",
    "            best_est = est\n",
    "print('Наибольшая доля правильных ответов:', best_mape) \n",
    "print('Наилучшая глубина обученного дерева', best_depth)\n",
    "print('Минимальное количество выборок', best_est)\n",
    "print(f'''\n",
    "MAPE   : { round(best_mape, 2) }\n",
    "MAPE % : { round(best_mape*100, 2) } %\n",
    "''')"
   ]
  },
  {
   "cell_type": "code",
   "execution_count": 104,
   "id": "a96a5e30",
   "metadata": {},
   "outputs": [
    {
     "name": "stdout",
     "output_type": "stream",
     "text": [
      "Наибольшая доля правильных ответов: 0.5657463344583691\n",
      "Наилучшая глубина обученного дерева 20\n",
      "\n",
      "MAPE   : 0.57\n",
      "MAPE % : 56.57 %\n",
      "\n"
     ]
    }
   ],
   "source": [
    "# 1 этап - RandomForestRegressor\n",
    "\n",
    "\n",
    "best_depth2 = 0\n",
    "best_mape = 1\n",
    "best_samples = 0\n",
    "\n",
    "for depth in range (2,50):\n",
    "    model2 = RandomForestRegressor (max_depth=depth, min_samples_leaf=2, random_state=12345)\n",
    "    model2.fit(features_train_scaled,target_train) # # обучаем модель на тренировочной выборке\n",
    "    predictions_valid2 = model2.predict(features_valid_scaled) # посчитаем качество модели на валидационной выборк\n",
    "    mape2 = mean_absolute_percentage_error(target_valid, predictions_valid2)\n",
    "    if mape2 < best_mape:\n",
    "        best_mape = mape2\n",
    "        best_depth2 = depth\n",
    "        #best_est = est\n",
    "       \n",
    "print('Наибольшая доля правильных ответов:', best_mape) \n",
    "print('Наилучшая глубина обученного дерева', best_depth2)\n",
    "#print('Минимальное количество выборок', best_est)\n",
    "print(f'''\n",
    "MAPE   : { round(best_mape, 2) }\n",
    "MAPE % : { round(best_mape*100, 2) } %\n",
    "''')"
   ]
  },
  {
   "cell_type": "code",
   "execution_count": 107,
   "id": "93721625",
   "metadata": {},
   "outputs": [
    {
     "name": "stdout",
     "output_type": "stream",
     "text": [
      "Наибольшая доля правильных ответов: 0.5676116304506503\n",
      "Минимальное количество выборок 2\n",
      "\n",
      "MAPE   : 0.57\n",
      "MAPE % : 56.76 %\n",
      "\n"
     ]
    }
   ],
   "source": [
    "# 2 этап - RandomForestRegressor\n",
    "\n",
    "\n",
    "best_depth = 20\n",
    "best_est2 = 0\n",
    "best_mape = 0.57\n",
    "best_samples = 0\n",
    "\n",
    "for est in range (2,50):\n",
    "    model1 = RandomForestRegressor (n_estimators = est, max_depth=20, random_state=12345)\n",
    "    model1.fit(features_train_scaled,target_train) # # обучаем модель на тренировочной выборке\n",
    "    predictions_valid1 = model1.predict(features_valid_scaled) # посчитаем качество модели на валидационной выборк\n",
    "    mape1 = mean_absolute_percentage_error(target_valid, predictions_valid2)\n",
    "    if mape1 < best_mape:\n",
    "        best_mape = mape1\n",
    "       # best_depth = depth\n",
    "        best_est2 = est\n",
    "       \n",
    "print('Наибольшая доля правильных ответов:', best_mape) \n",
    "#print('Наилучшая глубина обученного дерева', best_depth)\n",
    "print('Минимальное количество выборок', best_est2)\n",
    "print(f'''\n",
    "MAPE   : { round(best_mape, 2) }\n",
    "MAPE % : { round(best_mape*100, 2) } %\n",
    "''')\n"
   ]
  },
  {
   "cell_type": "code",
   "execution_count": 115,
   "id": "f8f0f3d4",
   "metadata": {},
   "outputs": [
    {
     "name": "stdout",
     "output_type": "stream",
     "text": [
      "Наибольшая доля правильных ответов: 0.4851142393685383\n",
      "Наилучшая глубина обученного дерева 11\n",
      "\n",
      "MAPE   : 0.49\n",
      "MAPE % : 48.51 %\n",
      "\n"
     ]
    }
   ],
   "source": [
    "#Модель XGboost 1 этап\n",
    "best_depth3 = 0\n",
    "\n",
    "best_mape = 1\n",
    "best_samples = 0\n",
    "\n",
    "for depth in range (2,20):\n",
    "    model3 = GradientBoostingRegressor (max_depth=depth, random_state=12345, loss='absolute_error')\n",
    "    model3.fit(features_train_scaled,target_train) # # обучаем модель на тренировочной выборке\n",
    "    predictions_valid3 = model3.predict(features_valid_scaled) # посчитаем качество модели на валидационной выборк\n",
    "    mape3 = mean_absolute_percentage_error(target_valid, predictions_valid3)\n",
    "    if mape3 < best_mape:\n",
    "        best_mape = mape3 #наименьший процент отклонения от таргета\n",
    "        best_depth = depth\n",
    "print('Наибольшая доля правильных ответов:', best_mape) \n",
    "print('Наилучшая глубина обученного дерева', best_depth)\n",
    "\n",
    "print(f'''\n",
    "MAPE   : { round(best_mape, 2) }\n",
    "MAPE % : { round(best_mape*100, 2) } %\n",
    "''')"
   ]
  },
  {
   "cell_type": "code",
   "execution_count": 118,
   "id": "cfd435f0",
   "metadata": {},
   "outputs": [
    {
     "name": "stdout",
     "output_type": "stream",
     "text": [
      "Наибольшая доля правильных ответов: 0.4851\n",
      "Минимальное количество выборок 19\n",
      "\n",
      "MAPE   : 0.49\n",
      "MAPE % : 48.51 %\n",
      "\n"
     ]
    }
   ],
   "source": [
    "\n",
    "#Модель XGboost - 2 этап \n",
    "best_depth = best_depth3\n",
    "#best_est = 0.4851\n",
    "best_mape = 0.4851\n",
    "best_samples = 0\n",
    "    \n",
    "for est in range (2,20):\n",
    "    model3 = GradientBoostingRegressor (n_estimators=est, max_depth=11, random_state=12345, loss='absolute_error')\n",
    "    model3.fit(features_train_scaled,target_train) # # обучаем модель на тренировочной выборке\n",
    "    predictions_valid3 = model3.predict(features_valid_scaled) # посчитаем качество модели на валидационной выборк\n",
    "    mape3 = mean_absolute_percentage_error(target_valid, predictions_valid3)\n",
    "    if mape3 < best_mape:\n",
    "        best_mape = mape3 #наименьший процент отклонения от таргета\n",
    "        #best_depth = depth\n",
    "        best_est = est\n",
    "print('Наибольшая доля правильных ответов:', best_mape) \n",
    "#print('Наилучшая глубина обученного дерева', best_depth)\n",
    "print('Минимальное количество выборок', best_est)\n",
    "\n",
    "print(f'''\n",
    "MAPE   : { round(best_mape, 2) }\n",
    "MAPE % : { round(best_mape*100, 2) } %\n",
    "''')"
   ]
  },
  {
   "cell_type": "code",
   "execution_count": 119,
   "id": "693d6a08",
   "metadata": {},
   "outputs": [
    {
     "name": "stdout",
     "output_type": "stream",
     "text": [
      "\n",
      "MAPE   : 0.62\n",
      "MAPE % : 61.56 %\n",
      "\n"
     ]
    }
   ],
   "source": [
    "#GradientBoostingRegressor - случайная без подбора\n",
    "best_depth = 0\n",
    "best_est = 0\n",
    "best_mape = 1\n",
    "best_samples = 0\n",
    "\n",
    "\n",
    "model = GradientBoostingRegressor (loss='absolute_error')\n",
    "model.fit(features_train_scaled,target_train) # # обучаем модель на тренировочной выборке\n",
    "predictions_valid = model.predict(features_valid_scaled) # посчитаем качество модели на валидационной выборк\n",
    "mape = mean_absolute_percentage_error(target_valid, predictions_valid3)\n",
    "\n",
    "\n",
    "print(f'''\n",
    "MAPE   : { round(mape, 2) }\n",
    "MAPE % : { round(mape*100, 2) } %\n",
    "''')\n"
   ]
  },
  {
   "cell_type": "code",
   "execution_count": null,
   "id": "5dd9b457",
   "metadata": {},
   "outputs": [],
   "source": [
    "# initializing GradientBoostingRegressor\n",
    "rf = GradientBoostingRegressor ()\n",
    "\n",
    "# grid search cv\n",
    "grid_space={'max_depth':[3,5,10,None],\n",
    "              'n_estimators':[5,10,100]\n",
    "           }\n",
    "\n",
    "grid = GridSearchCV(rf,param_grid=grid_space,cv=3,scoring='accuracy')\n",
    "model_grid = grid.fit(features_train_scaled,target_train)\n",
    "\n",
    "# grid search results\n",
    "print('Best grid search hyperparameters are: '+str(model_grid.best_params_))\n",
    "print('Best grid search score is: '+str(model_grid.best_score_))\n",
    "\n",
    "# random search cv\n",
    "rs_space={'max_depth':list(np.arange(10, 100, step=10)) + [None] }\n",
    "\n",
    "rf = GradientBoostingRegressor ()\n",
    "\n",
    "rf_random = RandomizedSearchCV(rf, rs_space, n_iter=500, scoring='accuracy', n_jobs=-1, cv=3)\n",
    "model_random = rf_random.fit(features_train_scaled,target_train)\n",
    "\n",
    "# random random search results\n",
    "print('Best random search hyperparameters are: '+str(model_random.best_params_))\n",
    "print('Best random search score is: '+str(model_random.best_score_))"
   ]
  },
  {
   "cell_type": "markdown",
   "id": "1d9914ff",
   "metadata": {},
   "source": [
    "***ВЫВОД***\n",
    "\n",
    "Получили следующие метрики MAPE по моделям:\n",
    " - линейная регрессия - 86.18%\n",
    " - дерево решение - 58.68%\n",
    " - случайный лес - 56.54%\n",
    " - XGboost - 48.51%\n",
    " \n",
    "Наилучшую метрику показада модель XGboost, поэтому она будет использована в прогнозе цены авто на вторичном рынке на тестовой выборке.\n",
    " "
   ]
  },
  {
   "cell_type": "markdown",
   "id": "ca3450c2",
   "metadata": {},
   "source": [
    "***Тестирование модели***"
   ]
  },
  {
   "cell_type": "code",
   "execution_count": 121,
   "id": "e4b43e2a",
   "metadata": {},
   "outputs": [],
   "source": [
    "#тестовые  данные\n",
    "from io import BytesIO\n",
    "import requests\n",
    "spreadsheet_id = '1f8tWeaIP1GdUUmYq7AzqovUEbPxwf9n64EUTbJgGpTw'\n",
    "file_name = 'https://docs.google.com/spreadsheets/d/{}/export?format=csv'.format(spreadsheet_id)\n",
    "r = requests.get(file_name)\n",
    "data_test = pd.read_csv(BytesIO(r.content))\n",
    "#data_test\n",
    "#data_test.info()"
   ]
  },
  {
   "cell_type": "markdown",
   "id": "ed339615",
   "metadata": {},
   "source": [
    "***ПРЕДОБРАБОТКА ДАННЫХ В ТЕСТОВОЙ ВЫБОРКЕ (аналогична проведенной в тренировочной выборке)***"
   ]
  },
  {
   "cell_type": "code",
   "execution_count": 122,
   "id": "9c48df9b",
   "metadata": {},
   "outputs": [],
   "source": [
    "vin  = data_test['vin']\n"
   ]
  },
  {
   "cell_type": "code",
   "execution_count": 123,
   "id": "a8020f77",
   "metadata": {},
   "outputs": [],
   "source": [
    "#обрабоатем неявные дубликаты, приведя названия в колонке к нижнему регистру \n",
    "data_test['make'] = data_test['make'].str.lower()\n",
    "data_test['model'] = data_test['model'].str.lower()\n",
    "data_test['trim'] = data_test['trim'].str.lower()\n",
    "data_test['body'] = data_test['body'].str.lower()\n",
    "data_test['transmission'] = data_test['transmission'].str.lower()\n",
    "data_test['state'] = data_test['state'].str.lower()\n",
    "data_test['color'] = data_test['color'].str.lower()\n",
    "data_test['interior'] = data_test['interior'].str.lower()\n",
    "\n"
   ]
  },
  {
   "cell_type": "code",
   "execution_count": 124,
   "id": "d01e8b3b",
   "metadata": {},
   "outputs": [],
   "source": [
    "#измение типа данных, чтобы признак стал категориальным при кодировке\n",
    "data_test['condition'] = data_test['condition'].astype(object)"
   ]
  },
  {
   "cell_type": "code",
   "execution_count": 125,
   "id": "55b89a61",
   "metadata": {},
   "outputs": [],
   "source": [
    "#убработка пропусков\n",
    "\n",
    "column_to_replace = ['make', 'model', 'trim', 'body', 'transmission', 'color', 'interior', 'condition']\n",
    "for i in column_to_replace:\n",
    "    data_test[i] = data_test[i].fillna('unknown')\n",
    "\n",
    "    \n",
    "data_test['odometer'] = data_test['odometer'].fillna(0)\n",
    "\n",
    "\n",
    "#print(data_test.isna().sum())"
   ]
  },
  {
   "cell_type": "code",
   "execution_count": 126,
   "id": "c7bf76d8",
   "metadata": {},
   "outputs": [
    {
     "data": {
      "text/plain": [
       "array(['cadillac', 'gmc', 'nissan', 'chevrolet', 'volkswagen', 'hyundai',\n",
       "       'ford', 'infiniti', 'subaru', 'kia', 'bmw', 'unknown',\n",
       "       'mitsubishi', 'dodge', 'oldsmobile', 'volvo', 'pontiac', 'acura',\n",
       "       'toyota', 'audi', 'jeep', 'lincoln', 'chrysler', 'mercedes', 'ram',\n",
       "       'scion', 'mercury', 'lexus', 'saturn', 'mazda', 'porsche', 'mini',\n",
       "       'smart', 'buick', 'hummer', 'jaguar', 'fiat', 'saab', 'suzuki',\n",
       "       'land rover', 'geo', 'chev truck', 'bentley', 'isuzu',\n",
       "       'aston martin', 'maserati', 'daewoo', 'wolkswagen', 'tesla',\n",
       "       'ferrari', 'fisker', 'rolls-royce', 'lotus', 'plymouth',\n",
       "       'hyundai tk', 'ford tk'], dtype=object)"
      ]
     },
     "execution_count": 126,
     "metadata": {},
     "output_type": "execute_result"
    }
   ],
   "source": [
    "#заменя неявных дубликатов производителей (make)\n",
    "\n",
    "data_test['make'] = data_test['make'].replace ('honda','hyundai')\n",
    "data_test['make'] = data_test['make'].replace ('mercedes-benz','mercedes')\n",
    "data_test['make'] = data_test['make'].replace ('mercedes-b','mercedes')\n",
    "data_test['make'] = data_test['make'].replace ('vw','wolkswagen')\n",
    "data_test['make'] = data_test['make'].replace ('landrover','land rover')\n",
    "data_test['make'] = data_test['make'].replace ('dodge tk','dodge truck')\n",
    "data_test['make'] = data_test['make'].replace ('mazda tk','mazda truck')\n",
    "data_test['make'].unique()\n",
    "\n",
    "data_test['make'].unique()"
   ]
  },
  {
   "cell_type": "code",
   "execution_count": 127,
   "id": "96e77e8e",
   "metadata": {},
   "outputs": [],
   "source": [
    "#обработка неявных дубликатов среди моделдей авто \n",
    "\n",
    "#mazda\n",
    "\n",
    "data_test['model'] = data_test['model'].replace ('mazdaspeed mazda3','mazdaspeed 3')\n",
    "data_test['model'] = data_test['model'].replace ('mazdaspeed3','mazdaspeed 3')\n",
    "data_test['model'] = data_test['model'].replace ('3','mazdaspeed 3')\n",
    "data_test['model'] = data_test['model'].replace ('rx8','rx-8')\n",
    "data_test['model'] = data_test['model'].replace ('6','mazda6')\n",
    "data_test['model'] = data_test['model'].replace ('mazdaspeed mx-5 miata','mx-5 miata')\n",
    "data_test['model'] = data_test['model'].replace ('mazdaspeed protege','protege')\n",
    "data_test['model'] = data_test['model'].replace ('b-series truck','b-series pickup')\n",
    "data_test['model'] = data_test['model'].replace ('truck','b-series pickup')\n",
    "data_test['model'] = data_test['model'].replace ('b-series','b-series pickup')\n",
    "data_test['model'] = data_test['model'].replace ('mazdaspeed mazda6','mazda6')\n",
    "data_test['model'] = data_test['model'].replace ('mazdaspeed 3','mazda3')\n",
    "\n",
    "#ford\n",
    "data_test['model'] = data_test['model'].replace ('mazdaspeed mx-5 miata','mx-5 miata')\n",
    "data_test['model'] = data_test['model'].replace ('e-150','e150')\n",
    "data_test['model'] = data_test['model'].replace ('e-250','e250')\n",
    "data_test['model'] = data_test['model'].replace ('e-350','e350')\n",
    "data_test['model'] = data_test['model'].replace ('f250','f-250 super duty')\n",
    "#упрощение\n",
    "#data_train['model'] = data_train['model'].replace ('f150','f-150')\n",
    "#data_train['model'] = data_train['model'].replace ('f-150 heritage','f-150')\n",
    "#data_train['model'] = data_train['model'].replace ('f-150 svt lightning','f-150')\n",
    "#data_train['model'] = data_train['model'].replace ('f-350 super duty','f-350')\n",
    "#data_train['model'] = data_train['model'].replace ('f350','f-350')\n",
    "#data_train['model'] = data_train['model'].replace ('f-250 super duty','f-250')\n",
    "#data_train['model'] = data_train['model'].replace ('f-250 super duty','f-250')\n",
    "#data_train['model'] = data_train['model'].replace ('c-max hybrid','c-max')\n",
    "#data_train['model'] = data_train['model'].replace ('c-max energi','c-max')\n",
    "#data_train['model'] = data_train['model'].replace ('explorer sport','explorer')\n",
    "#data_train['model'] = data_train['model'].replace ('mustang svt cobra','mustang')\n",
    "#data_train['model'] = data_train['model'].replace ('expedit','expedition')\n",
    "#data_train['model'] = data_train['model'].replace ('focus st','focus')\n",
    "#data_train['model'] = data_train['model'].replace ('fusion energi','fusion')\n",
    "#data_train['model'] = data_train['model'].replace ('fusion hybrid','fusion')\n",
    "#data_train['model'] = data_train['model'].replace ('explorer sport trac','explorer')\n",
    "#data_train['model'] = data_train['model'].replace ('expeditn','explorer')\n",
    "#data_train['model'] = data_train['model'].replace ('expedition el','explorer')\n",
    "\n",
    "\n",
    "#chevrole\n",
    "\n",
    "data_test['model'] = data_test['model'].replace ('1500','ilverado 1500')\n",
    "\n",
    "#nissan\n",
    "data_test['model'] = data_test['model'].replace ('pathfind ','pathfinder')\n",
    "\n",
    "#dodge\n",
    "data_test['model'] = data_test['model'].replace ('ram3500 ','ram pickup 3500')\n",
    "data_test['model'] = data_test['model'].replace ('b1500','ram pickup 1500')\n",
    "data_test['model'] = data_test['model'].replace ('gr','grand')\n",
    "\n",
    "#bmw\n",
    "data_test['model'] = data_train['model'].replace ('x5','5 series')\n",
    "data_test['model'] = data_train['model'].replace ('x3','3 series')\n",
    "data_test['model'] = data_train['model'].replace ('x1','1 series')\n",
    "\n",
    "data_test['model'] = data_test['model'].replace ('x6','6 series')\n",
    "data_test['model'] = data_test['model'].replace ('x4','4 series')\n",
    "data_test['model'] = data_test['model'].replace ('7','7 series')\n",
    "\n",
    "\n",
    "#chrysler\n",
    "data_test['model'] = data_test['model'].replace ('twn&country','town and country')\n",
    "data_test['model'] = data_test['model'].replace ('twn/cntry','town and country')\n",
    "data_test['model'] = data_test['model'].replace ('pt','pt cruiser')\n",
    "data_test['model'] = data_test['model'].replace ('town','town and country')\n",
    "\n",
    "#упрощение\n",
    "#data_train['model'] = data_train['model'].replace ('2500','sierra 2500')\n",
    "#data_train['model'] = data_train['model'].replace ('g2500','sierra 2500')\n",
    "#data_train['model'] = data_train['model'].replace ('c/k 2500 series','sierra 2500')\n",
    "#data_train['model'] = data_train['model'].replace ('c/k 3500 series','silverado 3500')\n",
    "#data_train['model'] = data_train['model'].replace ('3500','silverado 3500')\n",
    "#data_train['model'] = data_train['model'].replace ('s-10 blazer','blazer')\n",
    "#data_train['model'] = data_train['model'].replace ('trailblazer ext','blazer')\n",
    "#data_train['model'] = data_train['model'].replace ('trailblazer ext','blazer')\n",
    "#data_train['model'] = data_train['model'].replace ('sierra 2500','sierra 2500')\n",
    "#data_train['model'] = data_train['model'].replace ('capt ','captiva sport')\n",
    "#data_train['model'] = data_train['model'].replace ('silverado 1500 classic','silverado 1500')\n",
    "#data_train['model'] = data_train['model'].replace ('silverado 1500hd','silverado 1500')\n",
    "#data_train['model'] = data_train['model'].replace ('1500','silverado 1500')\n",
    "#data_train['model'] = data_train['model'].replace ('c/k 1500 series','silverado 1500')\n",
    "#data_train['model'] = data_train['model'].replace ('g3500','silverado 3500')\n",
    "#data_train['model'] = data_train['model'].replace ('silverado 2500hd classic','silverado 2500')\n",
    "#data_train['model'] = data_train['model'].replace ('silverado 1500 hybrid','silverado 1500')\n",
    "#data_train['model'] = data_train['model'].replace ('g3500','silverado 1500')\n",
    "#data_train['model'] = data_train['model'].replace ('silverado 2500hd ','silverado 2500')\n",
    "#data_train['model'] = data_train['model'].replace ('silverado 3500 classic','silverado 3500')\n",
    "#data_train['model'] = data_train['model'].replace ('tahoe limited/z71','tahoe')\n",
    "#data_train['model'] = data_train['model'].replace ('tahoe hybrid','tahoe')\n",
    "#data_train['model'] = data_train['model'].replace ('g1500','silverado 1500')\n",
    "#data_train['model'] = data_train['model'].replace ('impala limited','impala')\n",
    "#data_train['model'] = data_train['model'].replace ('s-10','blazer')\n",
    "#data_train['model'] = data_train['model'].replace ('s10','blazer')\n",
    "#data_train['model'] = data_train['model'].replace ('capt','captiva sport')\n",
    "#data_train['model'] = data_train['model'].replace ('malibu maxx','malibu')\n",
    "#data_train['model'] = data_train['model'].replace ('malibu classic','malibu')\n",
    "#data_train['model'] = data_train['model'].replace ('3500 ','silverado 3500')\n",
    "#data_train['model'] = data_train['model'].replace ('corvette stingray','corvette')\n",
    "#data_train['model'] = data_train['model'].replace ('spark ev ','spark')\n",
    "#data_train['model'] = data_train['model'].replace ('black diamond avalanche','avalanche')\n",
    "#data_train['model'] = data_train['model'].replace ('malibu hybrid','malibu')\n",
    "#data_train['model'] = data_train['model'].replace ('malibu hybrid ','malibu')\n",
    "\n",
    "\n",
    "#toyota\n",
    "data_train['model'] = data_train['model'].replace ('pathfind ','pathfinder')\n",
    "\n",
    "#упрощение\n",
    "##data_train['model'] = data_train['model'].replace ('camry hybrid','camry')\n",
    "#data_train['model'] = data_train['model'].replace ('highlander hybrid','highlander')\n",
    "#data_train['model'] = data_train['model'].replace ('camry hybrid','camry')\n",
    "#data_train['model'] = data_train['model'].replace ('camry solara','camry')\n",
    "#data_train['model'] = data_train['model'].replace ('prius c','prius')\n",
    "#data_train['model'] = data_train['model'].replace ('prius v','prius')\n",
    "#data_train['model'] = data_train['model'].replace ('prius plug-in','prius')\n",
    "#data_train['model'] = data_train['model'].replace ('avalon hybrid','avalon')\n",
    "\n",
    "\n",
    "\n",
    "#nissan - упрощение\n",
    "#data_train['model'] = data_train['model'].replace ('versa note','versa')\n",
    "#data_train['model'] = data_train['model'].replace ('rogue select','rogue')\n",
    "##data_train['model'] = data_train['model'].replace ('altima hybrid','altima')\n",
    "#data_train['model'] = data_train['model'].replace ('murano crosscabriolet','murano')\n",
    "#data_train['model'] = data_train['model'].replace ('pathfind','pathfinder')\n",
    "\n",
    "#mercedes\n",
    "data_test['model'] = data_test['model'].replace ('500-class','s-class')\n",
    "data_test['model'] = data_test['model'].replace ('c240w','c-class')\n",
    "data_test['model'] = data_test['model'].replace ('c230wz','c-class')\n",
    "data_test['model'] = data_test['model'].replace ('300e','e-class')\n",
    "data_test['model'] = data_test['model'].replace ('cl55','c-class')\n",
    "data_test['model'] = data_test['model'].replace ('s55','s-class')\n",
    "data_test['model'] = data_test['model'].replace ('b200','b-class')\n",
    "data_test['model'] = data_test['model'].replace ('b-class electric drive','b-class')\n",
    "data_test['model'] = data_test['model'].replace ('c240s','c-class')\n",
    "data_test['model'] = data_test['model'].replace ('c230','c-class')\n",
    "data_test['model'] = data_test['model'].replace ('sl55','s-class')\n",
    "data_test['model'] = data_test['model'].replace ('g500','g-class')\n",
    "data_test['model'] = data_test['model'].replace ('g55','g-class')\n",
    "data_test['model'] = data_test['model'].replace ('ml55 amg','m-class')\n",
    "data_test['model'] = data_test['model'].replace ('420sel','s-class')\n",
    "data_test['model'] = data_test['model'].replace ('e300dt','e-class')\n",
    "data_test['model'] = data_test['model'].replace ('420-class','s-class')\n",
    "\n",
    "#jeep\n",
    "data_test['model'] = data_test['model'].replace ('grand','grand cherokee')\n",
    " \n",
    "#gmc    \n",
    "data_test['model'] = data_test['model'].replace ('safari cargo','safari')\n",
    "data_test['model'] = data_test['model'].replace ('sierra 1500 hybrid','sierra 1500hd')  \n",
    "    \n",
    "    \n",
    "#унификация цветов\n",
    "data_test['color'] = data_test['color'].replace ('off-white','white')\n",
    "data_test['color'] = data_test['color'].replace ('charcoal','gray')\n",
    "data_test['color'] = data_test['color'].replace ('—','nan')\n",
    "\n",
    "\n",
    "\n",
    "#интеррьер\n",
    "data_test['interior'] = data_test['interior'].replace ('off-white','white')\n",
    "\n",
    "#замена неявных дубликатов  в типе кузова\n",
    "data_test['body'] = data_test['body'].replace ('regular-cab','regular cab')"
   ]
  },
  {
   "cell_type": "code",
   "execution_count": 128,
   "id": "4fbcd8a7",
   "metadata": {},
   "outputs": [
    {
     "name": "stdout",
     "output_type": "stream",
     "text": [
      "<class 'pandas.core.frame.DataFrame'>\n",
      "RangeIndex: 110060 entries, 0 to 110059\n",
      "Data columns (total 18 columns):\n",
      " #   Column          Non-Null Count   Dtype  \n",
      "---  ------          --------------   -----  \n",
      " 0   year            110060 non-null  int64  \n",
      " 1   make            110060 non-null  object \n",
      " 2   model           110059 non-null  object \n",
      " 3   trim            110060 non-null  object \n",
      " 4   body            110060 non-null  object \n",
      " 5   transmission    110060 non-null  object \n",
      " 6   vin             110060 non-null  object \n",
      " 7   state           110060 non-null  object \n",
      " 8   condition       110060 non-null  object \n",
      " 9   odometer        110060 non-null  float64\n",
      " 10  color           110060 non-null  object \n",
      " 11  interior        110060 non-null  object \n",
      " 12  seller          110060 non-null  object \n",
      " 13  saledate        110060 non-null  object \n",
      " 14  saledate_dt     110060 non-null  int64  \n",
      " 15  saledate_year   110060 non-null  int64  \n",
      " 16  saledate_month  110060 non-null  int64  \n",
      " 17  term of use     110060 non-null  int64  \n",
      "dtypes: float64(1), int64(5), object(12)\n",
      "memory usage: 15.1+ MB\n",
      "None\n"
     ]
    }
   ],
   "source": [
    "#предобработка даты\n",
    "data_test['saledate_dt'] = pd.to_datetime(data_test['saledate'], utc=True).dt.dayofweek\n",
    "data_test['saledate_year'] = pd.to_datetime(data_test['saledate'], utc=True).dt.year\n",
    "data_test['saledate_month'] = pd.to_datetime(data_test['saledate'], utc=True).dt.month\n",
    "data_test['term of use'] = data_test['saledate_year'] - data_test['year']\n",
    "print(data_test.info())"
   ]
  },
  {
   "cell_type": "code",
   "execution_count": 129,
   "id": "1a7d1585",
   "metadata": {},
   "outputs": [
    {
     "name": "stdout",
     "output_type": "stream",
     "text": [
      "        make   model      trim      body transmission state condition  \\\n",
      "0   cadillac    edge      base     sedan    automatic    ca       2.7   \n",
      "1        gmc  fusion      2500       van      unknown    pa       4.4   \n",
      "2     nissan  sentra         s       suv    automatic    oh       4.6   \n",
      "3  chevrolet      h2  ls fleet     sedan    automatic    fl       2.3   \n",
      "4     nissan  fusion        sv  crew cab    automatic    tn       2.9   \n",
      "\n",
      "   odometer   color interior  saledate_dt  saledate_month  term of use  \n",
      "0  116970.0  silver    black            1               1           10  \n",
      "1    6286.0   white     gray            3               2            1  \n",
      "2   11831.0    gray    black            0               2            2  \n",
      "3   57105.0  silver    black            3               3            2  \n",
      "4   31083.0   black    black            1               6            2  \n"
     ]
    }
   ],
   "source": [
    "data_test = data_test.drop(columns=['vin','seller', 'saledate', 'year', 'saledate_year'], axis=1)\n",
    "#кодирование\n",
    "features_test = pd.get_dummies(data_test, drop_first=True)\n",
    "\n",
    "\n",
    "\n",
    "#список всех численных признаков.\n",
    "numeric1 = ['saledate_dt','odometer','term of use', 'saledate_month']\n",
    "\n",
    "\n",
    "#создадим объект стандартизации и обучим его\n",
    "scaler = StandardScaler()    \n",
    "scaler.fit(features_test[numeric])\n",
    "#сохраним преобразованные обучающую,валидационную и тестовую  выборки в переменные\n",
    "features_train[numeric] = scaler.transform(features_train[numeric])\n",
    "features_valid[numeric] = scaler.transform(features_valid[numeric]) \n",
    "\n",
    "\n",
    "\n",
    "\n",
    "features_test_scaled = scaler.transform(features_test[numeric1])\n",
    "\n",
    "pd.options.mode.chained_assignment = None\n",
    "print(data_test.head())"
   ]
  },
  {
   "cell_type": "code",
   "execution_count": 130,
   "id": "3a005c0f",
   "metadata": {},
   "outputs": [
    {
     "name": "stdout",
     "output_type": "stream",
     "text": [
      "[2982.16458786 3292.84318993 2545.10288262 ... 4269.06458786 2301.14282587\n",
      " 2242.37322176]\n"
     ]
    }
   ],
   "source": [
    "#проверим работу модели на тестовой выборке\n",
    "model = GradientBoostingRegressor (n_estimators=19, max_depth=11, random_state=12345, loss='absolute_error')\n",
    "model.fit(features_train_scaled,target_train)\n",
    "sellingprice = model.predict(features_test_scaled) # посчитаем качество модели на валидационной выборке\n",
    "\n",
    "print(sellingprice)\n",
    "\n"
   ]
  },
  {
   "cell_type": "markdown",
   "id": "c7604b61",
   "metadata": {},
   "source": [
    "***Sample_submition***"
   ]
  },
  {
   "cell_type": "code",
   "execution_count": 131,
   "id": "8d6aba08",
   "metadata": {},
   "outputs": [
    {
     "name": "stdout",
     "output_type": "stream",
     "text": [
      "                 vin sellingprice\n",
      "0  1g6dp567450124779  2982.164588\n",
      "1  1gtw7fca7e1902207   3292.84319\n",
      "2  jn8az1mw6dw303497  2545.102883\n"
     ]
    }
   ],
   "source": [
    "#выделение данных для загрузки на Kaggle\n",
    "submition = pd.DataFrame([vin, sellingprice])\n",
    "submition = submition.T\n",
    "submition = submition.rename(columns={'Unnamed 0': 'sellingprice'})\n",
    "print(submition.head(3))"
   ]
  },
  {
   "cell_type": "code",
   "execution_count": 132,
   "id": "80b47a57",
   "metadata": {},
   "outputs": [
    {
     "name": "stdout",
     "output_type": "stream",
     "text": [
      "<class 'pandas.core.frame.DataFrame'>\n",
      "RangeIndex: 110060 entries, 0 to 110059\n",
      "Data columns (total 2 columns):\n",
      " #   Column        Non-Null Count   Dtype \n",
      "---  ------        --------------   ----- \n",
      " 0   vin           110060 non-null  object\n",
      " 1   sellingprice  110060 non-null  object\n",
      "dtypes: object(2)\n",
      "memory usage: 1.7+ MB\n"
     ]
    }
   ],
   "source": [
    "#проверка количества строк\n",
    "submition.info()"
   ]
  },
  {
   "cell_type": "code",
   "execution_count": 133,
   "id": "d75352c9",
   "metadata": {},
   "outputs": [],
   "source": [
    "#выгрузка DataFrame to CSV file для загрузки на Kaggle\n",
    "submition.to_csv (r'C:\\Users\\LeeLoo\\Documents\\GitHub\\Kaggle_Estimating--value-of--car-on-the-secondary-market\\submition.csv', index= False )"
   ]
  },
  {
   "cell_type": "markdown",
   "id": "74b2c839",
   "metadata": {},
   "source": [
    "***ИТОГОВЫЙ ВЫВОД***\n",
    "\n",
    "В проекте перед нами стояла задача построить модель, способную предсказывать стоимость автомобиля на вторичном рынке. Для этого был использован тренировочный датасет размером  в 440 236 строк и 15 колонок с признаками, в том числе целевым - ценой продажи.\n",
    "\n",
    "Мы проделали следующую работу по предобработке данных:\n",
    "- все данные приведены к нижнему регистру;\n",
    "- пропуски в графе 'condition' заполнены значением -1  и им присвоен тип  потом object, \n",
    "чтобы после кодировки они стали категориальными значениями;\n",
    "- обработаны пробелы в датасете: в качественных данных они заменены  на \"Unknown\", в количественных - на ноль;\n",
    "- по результатам тепловой карты было принято решение удалить признак 'year', так как он сильно коррелирует с данным по колонке odometer;\n",
    "- из данных уделены строки, где цена продажи <1, как ошибочные;\n",
    "- проведена унификация неявных дубликатов среди следующих признаков: model, body, color, \n",
    "- выделены новые признаки на основе данных колонки \"saledate\":saledate_dt - день недели, когда авто было продано, saledate_year - год продажи, saledate_month - месяц продажи и term of use - срок эксплуатации авто до продажи.\n",
    "\n",
    "Далее данные были разбиты в пропорции 75*25 на тренировочную и валидационную выборки. После чего проведено прямое кодирование данных методом OHE с стандартизация количественных признаков.\n",
    "\n",
    "Мы обучили 4 модели: линейной регрессии, дерева решений, случайного леса и  XGboost.\n",
    "\n",
    "Получили следующие метрики MAPE по моделям:\n",
    " - линейная регрессия - 86.18%\n",
    " - дерево решение - 58.68%\n",
    " - случайный лес - 56.54%\n",
    " - XGboost - 48.51%\n",
    " \n",
    " Наименьший процент отклонения цены от таргета показала модель XGboost, её использовали на тестовой выборке. При этом тестовые данные прошли такую же предобработку, как и тренировочные.\n",
    " \n",
    "Работу над проектом следует продолжить, чтобы уменьшит показатель MAPE. В планах изучить, какое влияние на метрку окажет разработка и внедрение новых синтетических призназнаков."
   ]
  }
 ],
 "metadata": {
  "kernelspec": {
   "display_name": "Python 3 (ipykernel)",
   "language": "python",
   "name": "python3"
  },
  "language_info": {
   "codemirror_mode": {
    "name": "ipython",
    "version": 3
   },
   "file_extension": ".py",
   "mimetype": "text/x-python",
   "name": "python",
   "nbconvert_exporter": "python",
   "pygments_lexer": "ipython3",
   "version": "3.9.13"
  }
 },
 "nbformat": 4,
 "nbformat_minor": 5
}
